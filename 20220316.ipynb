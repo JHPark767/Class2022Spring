{
  "nbformat": 4,
  "nbformat_minor": 0,
  "metadata": {
    "colab": {
      "name": "20220316.ipynb",
      "provenance": [],
      "collapsed_sections": [],
      "authorship_tag": "ABX9TyPtYm70MOtLGNtzskuuR1LB",
      "include_colab_link": true
    },
    "kernelspec": {
      "name": "python3",
      "display_name": "Python 3"
    },
    "language_info": {
      "name": "python"
    }
  },
  "cells": [
    {
      "cell_type": "markdown",
      "metadata": {
        "id": "view-in-github",
        "colab_type": "text"
      },
      "source": [
        "<a href=\"https://colab.research.google.com/github/JHPark767/Class2022Spring/blob/main/20220316.ipynb\" target=\"_parent\"><img src=\"https://colab.research.google.com/assets/colab-badge.svg\" alt=\"Open In Colab\"/></a>"
      ]
    },
    {
      "cell_type": "markdown",
      "source": [
        "# 음성학응용0307\n",
        "\n",
        "영어음성학 응용 2022년도 1학기 keywords:\n",
        "\n",
        "python, colab, github, data processing(text, sound, image), hugging face, gradio\n",
        "\n",
        "python - 코딩 도구\n",
        "\n",
        "colab - 코딩 환경. (클라우드 코딩)\n",
        "\n",
        "github - 코드 및 작업물 공유환경.\n",
        "\n",
        "data processing - 학기동안 수업 중에 할 것. 누군가가 만들어 놓은 ai 모델(함수)을 통해 데이터를 처리할 것. 입력을 출력으로 바꾸는 과정.\n",
        "hugging face - ai 모델들을 모아놓은 곳.\n",
        "\n",
        "gradio - web programming 과정을 단축해서 ai모델들을 구현해주는 것. \n",
        "\n",
        "=> colab 환경을 python 언어로 코딩한 것을 github에 공유한다. \n",
        "\n",
        "그 내용은 hugging face 에서 가져온 ai 모델을 통해 데이터를 (글자, 소리, 이미지) 입력하고 출력하는 과정을 gradio로 구현한 것.\n",
        "\n",
        "예를 들어, hugging face에 gpt2를 이용해서, input text를 주었을때 문장을 완성해주는 ai 모델이 있다고 했을때,\n",
        "\n",
        "**colab의 환경에서 gradio를 이용해 hugging face의 ai 모델로 일부 텍스트를 입력했을때, 자동으로 문장을 완성해주는 간단한 앱 또는 사이트를 만드는 것이 가능하다.**\n",
        "\n",
        "-> 이번학기 수업에서 할 것.\n",
        "\n",
        "Coding에 대하여...\n",
        "\n",
        ": 주로 Python 사용. 다른 컴퓨터 언어들이 있고 이를 이용한 코딩도 다양하지만 주로 공통점은\n",
        "\n",
        "변수 - 숫자, 문자를 코드안에 부여함. (variables)\n",
        "\n",
        "문법 - 조건을 부여함. (syntax)\n",
        "\n",
        "함수 - 여러 변수, 문법을 입력과 출력으로 묶어놓은것. (function)\n"
      ],
      "metadata": {
        "id": "tfrKPJWgrci0"
      }
    },
    {
      "cell_type": "markdown",
      "source": [
        "\n",
        "# 음성학응용0309\n",
        "\n",
        "코딩-\n",
        "\n",
        "1.변수\n",
        "\n",
        "2.문법(조건,반복)\n",
        "\n",
        "3.함수\n",
        "\n",
        "4.패키지(라이브러리) - 어떤 목적을 갖고 함수 등을 모아놓은 것. 패키지는 import해서 써야한다.\n",
        "\n",
        "파이썬 변수에 대해.\n",
        "\n",
        "파이썬 = Programming Language. \n",
        "\n",
        "언어에 단어가 핵심이라면 단어는 의미(meaning), 내용(content)을 가지고 있다.\n",
        "\n",
        "Programming Language에서 이 단어(word)에 해당하는 것이 변수(variables).\n",
        "\n",
        "[var=3]이라고 변수를 주면 이것이 곧 내용(content)이 됨.\n",
        "\n",
        "이 word (variables)를 조합하는 것이 문법(syntax) -> 조건문과 반복문으로 주로 조합.\n",
        "\n"
      ],
      "metadata": {
        "id": "ZkQieammU25q"
      }
    },
    {
      "cell_type": "markdown",
      "source": [
        "변수는 숫자, 문자가 있다.\n",
        "그 중 숫자는 정수와 소수로 나눈다."
      ],
      "metadata": {
        "id": "FjxdbO3Xsqtz"
      }
    },
    {
      "cell_type": "code",
      "source": [
        "a = 1\n",
        "b = 2\n",
        "c = 3"
      ],
      "metadata": {
        "id": "Gf1ONNjyYh1j"
      },
      "execution_count": 9,
      "outputs": []
    },
    {
      "cell_type": "markdown",
      "source": [
        "라고 3개의 변수를 줬을때, 변수 a,b,c는 각각 1,2,3의 정수값을 가지고, 이러한 정수를 int라는 변수의 종류로 표시한다. 변수의 유형은 좌측의 {x} 버튼으로 확인."
      ],
      "metadata": {
        "id": "pDSNwGiGq9jI"
      }
    },
    {
      "cell_type": "code",
      "source": [
        "print(a)"
      ],
      "metadata": {
        "colab": {
          "base_uri": "https://localhost:8080/"
        },
        "id": "7M7MPDTDsW2-",
        "outputId": "0c1b98fd-3e03-413d-9449-af78ec392bd3"
      },
      "execution_count": 10,
      "outputs": [
        {
          "output_type": "stream",
          "name": "stdout",
          "text": [
            "1\n"
          ]
        }
      ]
    },
    {
      "cell_type": "markdown",
      "source": [
        "print(변수)는 변수의 내용을 나타낸다. 변수가 word라면 print를 통해 그 내용(content)를 나타냄."
      ],
      "metadata": {
        "id": "FO95K-sisaWD"
      }
    },
    {
      "cell_type": "code",
      "source": [
        "print(type(a)\n",
        ")"
      ],
      "metadata": {
        "colab": {
          "base_uri": "https://localhost:8080/"
        },
        "id": "VcQP8TDtrzoH",
        "outputId": "89e0bced-89b9-43be-ef1a-a714b5e5d754"
      },
      "execution_count": 11,
      "outputs": [
        {
          "output_type": "stream",
          "name": "stdout",
          "text": [
            "<class 'int'>\n"
          ]
        }
      ]
    },
    {
      "cell_type": "markdown",
      "source": [
        "혹은 print(type(변수))로 변수의 유형이 무엇인지 나타내게 할수있다."
      ],
      "metadata": {
        "id": "35nN9rBmr9l7"
      }
    },
    {
      "cell_type": "markdown",
      "source": [
        "소수 역시 위와 같은 과정으로 사용할 수 있으며, 유형은 int 대신 float로 표시한다."
      ],
      "metadata": {
        "id": "JqZOYlsIszoo"
      }
    },
    {
      "cell_type": "markdown",
      "source": [
        "문자로 이루어진 변수는 string (str)이라고 한다. 문자를 변수로 주는 방법으로 quote ('')를 이용한다."
      ],
      "metadata": {
        "id": "wR4YBYvSs8BJ"
      }
    },
    {
      "cell_type": "code",
      "source": [
        "d = '123'; print(d); print(type(d))"
      ],
      "metadata": {
        "colab": {
          "base_uri": "https://localhost:8080/"
        },
        "id": "aAHzDnNutMWE",
        "outputId": "8aa2590f-f9e1-4762-cafa-0ef48a2ba5af"
      },
      "execution_count": 12,
      "outputs": [
        {
          "output_type": "stream",
          "name": "stdout",
          "text": [
            "123\n",
            "<class 'str'>\n"
          ]
        }
      ]
    },
    {
      "cell_type": "markdown",
      "source": [
        "위는 d라는 변수에 '123'이라는 string을 quote로 주고, 변수 d의 내용과 type을 출력한 것이다. string에는 글자의 크기 (글자수)가 나타난다."
      ],
      "metadata": {
        "id": "euxw0UsitL53"
      }
    },
    {
      "cell_type": "code",
      "source": [
        "e = 'hi';print(e);print(type(e))"
      ],
      "metadata": {
        "colab": {
          "base_uri": "https://localhost:8080/"
        },
        "id": "QhlYxZz8tzko",
        "outputId": "389e95c2-c88f-4b45-d1e8-1f7487d1ffe1"
      },
      "execution_count": 13,
      "outputs": [
        {
          "output_type": "stream",
          "name": "stdout",
          "text": [
            "hi\n",
            "<class 'str'>\n"
          ]
        }
      ]
    },
    {
      "cell_type": "markdown",
      "source": [
        "숫자로 이루어진 string이 아닌 글자로 써도 마찬가지."
      ],
      "metadata": {
        "id": "nedvqKo-U1s4"
      }
    },
    {
      "cell_type": "markdown",
      "source": [
        "변수의 종류 중 list는 변수에 숫자, 문자 등 다양한 종류 여러개를 대괄호 안에 넣어놓은 것. list 안에 list도 가능"
      ],
      "metadata": {
        "id": "IPjDPZqct-hd"
      }
    },
    {
      "cell_type": "code",
      "source": [
        "f = [1,'a',['boy','girl']];print(f);print(type(f))\n"
      ],
      "metadata": {
        "colab": {
          "base_uri": "https://localhost:8080/"
        },
        "id": "Iy-M9d60uSa2",
        "outputId": "1a794d41-4744-4d44-9115-118c841428c4"
      },
      "execution_count": 14,
      "outputs": [
        {
          "output_type": "stream",
          "name": "stdout",
          "text": [
            "[1, 'a', ['boy', 'girl']]\n",
            "<class 'list'>\n"
          ]
        }
      ]
    },
    {
      "cell_type": "markdown",
      "source": [
        "list는 indexing이 가능하다. print(변수[index])로 표현.\n",
        "\n",
        "이것으로 list 중 내가 원하는 부분만 골라낼 수 있음. \n",
        "\n",
        "그 index는 첫번째것을 0으로하고, :표시는 전부 다를 의미한다. 0~2번째 변수 중 뒤의 두개만 가져오고 싶을때는 1:3-> 마지막꺼는 포함안함.처음부터 할때는 :3 으로만 표시.\n",
        "\n",
        "index는 음수도 쓰일 수 있음. 시작이 0번째, 마지막이 -1.\n",
        "\n",
        "또 변수 f처럼 list 안에 list를 포함하고 있을때, 작은 list의 부분을 표시할 때는 [작은 list가 있는 위치][작은 list 안에서 표시하고자 하는 부분의 위치]로 표현한다.\n",
        "\n",
        "밑은 예시."
      ],
      "metadata": {
        "id": "sLPMREzGvWVS"
      }
    },
    {
      "cell_type": "code",
      "source": [
        "print(f[:]);print(f[2][0]);print(f[1:3])"
      ],
      "metadata": {
        "colab": {
          "base_uri": "https://localhost:8080/"
        },
        "id": "ugV4i69TyKeb",
        "outputId": "61110652-554e-485a-a5e2-400c8a94279d"
      },
      "execution_count": 15,
      "outputs": [
        {
          "output_type": "stream",
          "name": "stdout",
          "text": [
            "[1, 'a', ['boy', 'girl']]\n",
            "boy\n",
            "['a', ['boy', 'girl']]\n"
          ]
        }
      ]
    },
    {
      "cell_type": "markdown",
      "source": [
        "변수가 list가 아닌 string일때도 index는 동일하게 적용된다.\n",
        "\n",
        "list라는 변수는 대괄호가 아닌 그냥 괄호()를 쓰면 tuple 이 되는데 괄호말고는 identical. 다만 tuple은 item assignment가 안됨."
      ],
      "metadata": {
        "id": "Mktmb50C1FdZ"
      }
    },
    {
      "cell_type": "markdown",
      "source": [
        "int,float,string,tuple,list 이외의 마지막 변수는 dict이다.\n",
        "\n",
        "dictionary의 준말. 중괄호 안에 'key':'value' 의 형태로 묶여있고, key 가 별도의 index 역할을 한다. key가 변수와 혼동되지 않게 ''으로 string처럼 만들어준다.\n",
        "\n",
        "다만 key는 문자와 숫자 모두 다됨."
      ],
      "metadata": {
        "id": "IG-yKwjX1t73"
      }
    },
    {
      "cell_type": "code",
      "source": [
        "g = {'a':'apple','b':'banana','c':'2022'}; print(type(g)); print(g['b'])\n"
      ],
      "metadata": {
        "colab": {
          "base_uri": "https://localhost:8080/"
        },
        "id": "pBAm1Euv2wsM",
        "outputId": "88da6a23-6d44-44d8-c31d-4b4f19244862"
      },
      "execution_count": 16,
      "outputs": [
        {
          "output_type": "stream",
          "name": "stdout",
          "text": [
            "<class 'dict'>\n",
            "banana\n"
          ]
        }
      ]
    },
    {
      "cell_type": "markdown",
      "source": [
        "# 음성학응용 0314"
      ],
      "metadata": {
        "id": "jb3s9k6H7ifZ"
      }
    },
    {
      "cell_type": "code",
      "metadata": {
        "id": "zwpWU02YmAur",
        "outputId": "65e011a4-1e3e-4bb6-97d6-b5a729bcad2e",
        "colab": {
          "base_uri": "https://localhost:8080/"
        }
      },
      "source": [
        "s = 'abcdef'\n",
        "print(s[0], s[5], s[-1], s[-6])\n",
        "print(s[1:3], s[1:], s[:3], s[:])"
      ],
      "execution_count": 17,
      "outputs": [
        {
          "output_type": "stream",
          "name": "stdout",
          "text": [
            "a f f a\n",
            "bc bcdef abc abcdef\n"
          ]
        }
      ]
    },
    {
      "cell_type": "markdown",
      "source": [
        "지난 시간 했던 index 복습.\n",
        "\n",
        "첫번째는 0. 마지막은 -1. :의 오른쪽은 포함. \n",
        "\n",
        "왼쪽에 아무것도 없으면 처음부터 \n",
        "\n",
        "오른쪽에 아무것도 없으면 끝까지 \n",
        "\n",
        "양쪽에 아무것도 없으면 전부다"
      ],
      "metadata": {
        "id": "1bG9feKx8Dm0"
      }
    },
    {
      "cell_type": "code",
      "metadata": {
        "id": "mpkdZBeWmAux",
        "outputId": "0ef5035b-59f4-4398-dbf2-909c64a7cce2",
        "colab": {
          "base_uri": "https://localhost:8080/"
        }
      },
      "source": [
        "n = [100, 200, 300]\n",
        "print(n[0], n[2], n[-1], n[-3])\n",
        "print(n[1:2], n[1:], n[:2], n[:])"
      ],
      "execution_count": 18,
      "outputs": [
        {
          "output_type": "stream",
          "name": "stdout",
          "text": [
            "100 300 300 100\n",
            "[200] [200, 300] [100, 200] [100, 200, 300]\n"
          ]
        }
      ]
    },
    {
      "cell_type": "markdown",
      "source": [
        "string과 list 는 index가 동일하다."
      ],
      "metadata": {
        "id": "5ltNjDJH8duw"
      }
    },
    {
      "cell_type": "code",
      "metadata": {
        "id": "ulnefmnFmAuy",
        "outputId": "8e81b441-b8e2-44a4-dcbc-d5d4eb5be3bd",
        "colab": {
          "base_uri": "https://localhost:8080/"
        }
      },
      "source": [
        "len(s)"
      ],
      "execution_count": 19,
      "outputs": [
        {
          "output_type": "execute_result",
          "data": {
            "text/plain": [
              "6"
            ]
          },
          "metadata": {},
          "execution_count": 19
        }
      ]
    },
    {
      "cell_type": "markdown",
      "source": [
        "len함수는 변수의 길이를 출력한다."
      ],
      "metadata": {
        "id": "DBcc6Et38ex6"
      }
    },
    {
      "cell_type": "code",
      "metadata": {
        "id": "a45rgiNMmAuy",
        "outputId": "e125b765-e0a4-4596-cdc8-b4c871d48aee",
        "colab": {
          "base_uri": "https://localhost:8080/",
          "height": 36
        }
      },
      "source": [
        "s[1]+s[3]+s[4:]*10"
      ],
      "execution_count": 20,
      "outputs": [
        {
          "output_type": "execute_result",
          "data": {
            "text/plain": [
              "'bdefefefefefefefefefef'"
            ],
            "application/vnd.google.colaboratory.intrinsic+json": {
              "type": "string"
            }
          },
          "metadata": {},
          "execution_count": 20
        }
      ]
    },
    {
      "cell_type": "markdown",
      "source": [
        "string에도 +를 쓸수있다.\n",
        "\n",
        "s[4:]는 s의 5번째글자부터끝까지를 의미. ='ef'\n",
        "\n",
        "*10은 s[4:]를 10번 반복시킨다. ='ef'를 10번붙임"
      ],
      "metadata": {
        "id": "luczIx7z8w_W"
      }
    },
    {
      "cell_type": "code",
      "metadata": {
        "id": "IevwoMpmmAuz",
        "outputId": "d88ba886-8caa-42df-e7d8-9be3a541e1d9",
        "colab": {
          "base_uri": "https://localhost:8080/",
          "height": 36
        }
      },
      "source": [
        "s.upper()"
      ],
      "execution_count": 21,
      "outputs": [
        {
          "output_type": "execute_result",
          "data": {
            "text/plain": [
              "'ABCDEF'"
            ],
            "application/vnd.google.colaboratory.intrinsic+json": {
              "type": "string"
            }
          },
          "metadata": {},
          "execution_count": 21
        }
      ]
    },
    {
      "cell_type": "markdown",
      "source": [
        "python에서 함수를 쓸때는 함수(입력) 의 형태로 쓴다.\n",
        "\n",
        "입력이 없으면 ()만 쓴다. -> python에서 괄호가 있다면 그 앞은 함수 일것.\n",
        "\n",
        "s.upper()는 s를 쓰는데 upper()함수를 통해 대문자로 출력한것."
      ],
      "metadata": {
        "id": "VTW6Kqpd9bRp"
      }
    },
    {
      "cell_type": "code",
      "metadata": {
        "id": "LRU0Yt1amAuz",
        "outputId": "5a6fc721-7892-4714-b4f6-d4221a5a2215",
        "colab": {
          "base_uri": "https://localhost:8080/",
          "height": 36
        }
      },
      "source": [
        "s = ' this is a house built this year.\\n' \t\n",
        "s"
      ],
      "execution_count": 22,
      "outputs": [
        {
          "output_type": "execute_result",
          "data": {
            "text/plain": [
              "' this is a house built this year.\\n'"
            ],
            "application/vnd.google.colaboratory.intrinsic+json": {
              "type": "string"
            }
          },
          "metadata": {},
          "execution_count": 22
        }
      ]
    },
    {
      "cell_type": "markdown",
      "source": [
        "s를 다른 string으로 바꿨다.\n",
        "\n",
        "셀의 마지막줄에 있을때는 print 안적어도 됨."
      ],
      "metadata": {
        "id": "As19gW8v-bc7"
      }
    },
    {
      "cell_type": "code",
      "metadata": {
        "id": "nMHteyDfmAu0",
        "outputId": "f68421f6-8433-4b4b-a750-3d337cc01112",
        "colab": {
          "base_uri": "https://localhost:8080/"
        }
      },
      "source": [
        "result = s.find('house') \t    \n",
        "result"
      ],
      "execution_count": 23,
      "outputs": [
        {
          "output_type": "execute_result",
          "data": {
            "text/plain": [
              "11"
            ]
          },
          "metadata": {},
          "execution_count": 23
        }
      ]
    },
    {
      "cell_type": "markdown",
      "source": [
        "s.find('house') = s에서 'house'를 찾아라.\n",
        "\n",
        "그 찾은 값을 result에 넣어라. 라는 의미. (=print(result))\n",
        "\n",
        "11은 'house'가 있는 위치가 11번째라는 뜻."
      ],
      "metadata": {
        "id": "y6CDyxG5-jfB"
      }
    },
    {
      "cell_type": "code",
      "metadata": {
        "id": "gv82JUX7mAu0",
        "outputId": "49c31ca9-7673-4c4e-ea21-37c34454fa43",
        "colab": {
          "base_uri": "https://localhost:8080/"
        }
      },
      "source": [
        "result = s.find('this')\t     \n",
        "result"
      ],
      "execution_count": 25,
      "outputs": [
        {
          "output_type": "execute_result",
          "data": {
            "text/plain": [
              "0"
            ]
          },
          "metadata": {},
          "execution_count": 25
        }
      ]
    },
    {
      "cell_type": "markdown",
      "source": [
        "s 안에 this가 두번 나오지만 위 함수로 찾은 위치는 this가 첫번째로 나오는 위치이다."
      ],
      "metadata": {
        "id": "OK-oe-ou_L2M"
      }
    },
    {
      "cell_type": "code",
      "metadata": {
        "id": "ua3TjwLcmAu2",
        "outputId": "d2692da8-2668-4c52-8068-116a65c86236",
        "colab": {
          "base_uri": "https://localhost:8080/",
          "height": 36
        }
      },
      "source": [
        "s = s.strip()      \t          # a copy of s without leading or trailing whitespace\n",
        "s"
      ],
      "execution_count": 24,
      "outputs": [
        {
          "output_type": "execute_result",
          "data": {
            "text/plain": [
              "'this is a house built this year.'"
            ],
            "application/vnd.google.colaboratory.intrinsic+json": {
              "type": "string"
            }
          },
          "metadata": {},
          "execution_count": 24
        }
      ]
    },
    {
      "cell_type": "markdown",
      "source": [
        "제일 처음이나 마지막의 whitespace를 지움. -> 처음의 공백과 마지막의 /n 문장부호\n",
        "\n",
        "필요없는 부분을 지워서 보여주는 함수."
      ],
      "metadata": {
        "id": "czke0IRf_kZu"
      }
    },
    {
      "cell_type": "code",
      "metadata": {
        "id": "l37g5DqQmAu2",
        "outputId": "31a0aa7b-f567-4d41-cade-3e1b80c95cd9",
        "colab": {
          "base_uri": "https://localhost:8080/"
        }
      },
      "source": [
        "tokens = s.split(' ')\t        # split s into a list wherever a t is found (whitespace by default)\n",
        "tokens"
      ],
      "execution_count": 26,
      "outputs": [
        {
          "output_type": "execute_result",
          "data": {
            "text/plain": [
              "['this', 'is', 'a', 'house', 'built', 'this', 'year.']"
            ]
          },
          "metadata": {},
          "execution_count": 26
        }
      ]
    },
    {
      "cell_type": "markdown",
      "source": [
        "split은 괄호안의 index (예시에서는 빈칸) 기준으로 쪼개서 list로 만드는 함수.\n",
        "\n",
        "예시는 즉, s를 빈칸을 기준으로 쪼개서 (공백은 포함x) list로 만드는것"
      ],
      "metadata": {
        "id": "NnaAHyR4ADzk"
      }
    },
    {
      "cell_type": "code",
      "metadata": {
        "id": "64sewKE8mAu2",
        "outputId": "dbc7d050-2f77-4c98-a33e-9a34e602586c",
        "colab": {
          "base_uri": "https://localhost:8080/",
          "height": 36
        }
      },
      "source": [
        "s = ' '.join(tokens)\t        # combine the words of the text into a string using s as the glue\n",
        "s"
      ],
      "execution_count": 27,
      "outputs": [
        {
          "output_type": "execute_result",
          "data": {
            "text/plain": [
              "'this is a house built this year.'"
            ],
            "application/vnd.google.colaboratory.intrinsic+json": {
              "type": "string"
            }
          },
          "metadata": {},
          "execution_count": 27
        }
      ]
    },
    {
      "cell_type": "markdown",
      "source": [
        "split의 역. tokens를 빈칸을 이용해서 join하라는 함수.\n",
        "\n",
        "원 문장으로 돌린다."
      ],
      "metadata": {
        "id": "UzwHk6pPAqme"
      }
    },
    {
      "cell_type": "code",
      "metadata": {
        "id": "jfiqbBiImAu3",
        "outputId": "873ee261-fd1c-4a84-dad1-ab8401a907d1",
        "colab": {
          "base_uri": "https://localhost:8080/",
          "height": 36
        }
      },
      "source": [
        "s = s.replace('this', 'that') # replace instances of t with u inside s\n",
        "s"
      ],
      "execution_count": 28,
      "outputs": [
        {
          "output_type": "execute_result",
          "data": {
            "text/plain": [
              "'that is a house built that year.'"
            ],
            "application/vnd.google.colaboratory.intrinsic+json": {
              "type": "string"
            }
          },
          "metadata": {},
          "execution_count": 28
        }
      ]
    },
    {
      "cell_type": "markdown",
      "source": [
        "'this'를 'that'으로 대체하는 함수."
      ],
      "metadata": {
        "id": "r3q_5p7XA2tU"
      }
    },
    {
      "cell_type": "markdown",
      "source": [
        "--------------------------------------------------------------------------------\n",
        "\n",
        "function."
      ],
      "metadata": {
        "id": "zkSZCQRMBfLA"
      }
    },
    {
      "cell_type": "code",
      "metadata": {
        "id": "hpc_mhgAye2S"
      },
      "source": [
        "def add(a,b):\n",
        "  return a+b\n",
        "\n",
        "def add(a,b): \n",
        "  c = a + b\n",
        "  return c\n",
        "\n",
        "def subtract(a,b):\n",
        "  return a-b\n",
        "\n",
        "def multiply(a,b):\n",
        "  return a*b\n",
        "\n",
        "def divide(a,b):\n",
        "  return a/b"
      ],
      "execution_count": 30,
      "outputs": []
    },
    {
      "cell_type": "markdown",
      "source": [
        "함수를 만들때는 def 함수이름(입력변수-여러개면 comma로 연결): 콜론은 필수\n",
        "\n",
        "출력은 return 출력변수-여러개면 comma로 연결 로 표시.\n",
        "\n",
        "예시는 사칙 연산 함수를 만들어 return에 그 내용을 정해줬음. 이름 바꿔도 상관없음. 내용도 다른 변수를 끼어와서 써도 상관없음.\n",
        "\n",
        "다만 함수를 쓸려면, 함수를 그 전에 미리 정의해놓고 그 셀을 실행시켜야 함."
      ],
      "metadata": {
        "id": "7gP1qcIgBePO"
      }
    },
    {
      "cell_type": "code",
      "metadata": {
        "colab": {
          "base_uri": "https://localhost:8080/"
        },
        "id": "8Y4oa05Eykn4",
        "outputId": "465706cd-449d-4b71-c01e-8af160871791"
      },
      "source": [
        "c = add(1,2); print(c)\n",
        "c = subtract(1,2); print(c)\n",
        "c = multiply(1,2); print(c)\n",
        "c = divide(1,2); print(c)"
      ],
      "execution_count": 31,
      "outputs": [
        {
          "output_type": "stream",
          "name": "stdout",
          "text": [
            "3\n",
            "-1\n",
            "2\n",
            "0.5\n"
          ]
        }
      ]
    },
    {
      "cell_type": "markdown",
      "source": [
        "위에 정의한 함수를 바탕으로 수를 입력해주고 출력을 받은 모습."
      ],
      "metadata": {
        "id": "cVjGCm-5Cw80"
      }
    }
  ]
}