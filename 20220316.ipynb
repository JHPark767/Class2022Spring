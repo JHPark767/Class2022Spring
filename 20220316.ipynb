{
  "nbformat": 4,
  "nbformat_minor": 0,
  "metadata": {
    "colab": {
      "name": "20220316.ipynb",
      "provenance": [],
      "collapsed_sections": [],
      "authorship_tag": "ABX9TyP7Uttx6a5H/jluMa6b0Lek",
      "include_colab_link": true
    },
    "kernelspec": {
      "name": "python3",
      "display_name": "Python 3"
    },
    "language_info": {
      "name": "python"
    }
  },
  "cells": [
    {
      "cell_type": "markdown",
      "metadata": {
        "id": "view-in-github",
        "colab_type": "text"
      },
      "source": [
        "<a href=\"https://colab.research.google.com/github/JHPark767/Class2022Spring/blob/main/20220316.ipynb\" target=\"_parent\"><img src=\"https://colab.research.google.com/assets/colab-badge.svg\" alt=\"Open In Colab\"/></a>"
      ]
    },
    {
      "cell_type": "markdown",
      "source": [
        "# 음성학응용0307\n",
        "\n",
        "영어음성학 응용 2022년도 1학기 keywords:\n",
        "\n",
        "python, colab, github, data processing(text, sound, image), hugging face, gradio\n",
        "\n",
        "python - 코딩 도구\n",
        "\n",
        "colab - 코딩 환경. (클라우드 코딩)\n",
        "\n",
        "github - 코드 및 작업물 공유환경.\n",
        "\n",
        "data processing - 학기동안 수업 중에 할 것. 누군가가 만들어 놓은 ai 모델(함수)을 통해 데이터를 처리할 것. 입력을 출력으로 바꾸는 과정.\n",
        "hugging face - ai 모델들을 모아놓은 곳.\n",
        "\n",
        "gradio - web programming 과정을 단축해서 ai모델들을 구현해주는 것. \n",
        "\n",
        "=> colab 환경을 python 언어로 코딩한 것을 github에 공유한다. \n",
        "\n",
        "그 내용은 hugging face 에서 가져온 ai 모델을 통해 데이터를 (글자, 소리, 이미지) 입력하고 출력하는 과정을 gradio로 구현한 것.\n",
        "\n",
        "예를 들어, hugging face에 gpt2를 이용해서, input text를 주었을때 문장을 완성해주는 ai 모델이 있다고 했을때,\n",
        "\n",
        "**colab의 환경에서 gradio를 이용해 hugging face의 ai 모델로 일부 텍스트를 입력했을때, 자동으로 문장을 완성해주는 간단한 앱 또는 사이트를 만드는 것이 가능하다.**\n",
        "\n",
        "-> 이번학기 수업에서 할 것.\n",
        "\n",
        "Coding에 대하여...\n",
        "\n",
        ": 주로 Python 사용. 다른 컴퓨터 언어들이 있고 이를 이용한 코딩도 다양하지만 주로 공통점은\n",
        "\n",
        "변수 - 숫자, 문자를 코드안에 부여함. (variables)\n",
        "\n",
        "문법 - 조건을 부여함. (syntax)\n",
        "\n",
        "함수 - 여러 변수, 문법을 입력과 출력으로 묶어놓은것. (function)\n"
      ],
      "metadata": {
        "id": "tfrKPJWgrci0"
      }
    },
    {
      "cell_type": "markdown",
      "source": [
        "\n",
        "# 음성학응용0309\n",
        "\n",
        "코딩-\n",
        "\n",
        "1.변수\n",
        "\n",
        "2.문법(조건,반복)\n",
        "\n",
        "3.함수\n",
        "\n",
        "4.패키지(라이브러리) - 어떤 목적을 갖고 함수 등을 모아놓은 것. 패키지는 import해서 써야한다.\n",
        "\n",
        "파이썬 변수에 대해.\n",
        "\n",
        "파이썬 = Programming Language. \n",
        "\n",
        "언어에 단어가 핵심이라면 단어는 의미(meaning), 내용(content)을 가지고 있다.\n",
        "\n",
        "Programming Language에서 이 단어(word)에 해당하는 것이 변수(variables).\n",
        "\n",
        "[var=3]이라고 변수를 주면 이것이 곧 내용(content)이 됨.\n",
        "\n",
        "이 word (variables)를 조합하는 것이 문법(syntax) -> 조건문과 반복문으로 주로 조합.\n",
        "\n"
      ],
      "metadata": {
        "id": "ZkQieammU25q"
      }
    },
    {
      "cell_type": "markdown",
      "source": [
        "변수는 숫자, 문자가 있다.\n",
        "그 중 숫자는 정수와 소수로 나눈다."
      ],
      "metadata": {
        "id": "FjxdbO3Xsqtz"
      }
    },
    {
      "cell_type": "code",
      "source": [
        "a = 1\n",
        "b = 2\n",
        "c = 3"
      ],
      "metadata": {
        "id": "Gf1ONNjyYh1j"
      },
      "execution_count": null,
      "outputs": []
    },
    {
      "cell_type": "markdown",
      "source": [
        "라고 3개의 변수를 줬을때, 변수 a,b,c는 각각 1,2,3의 정수값을 가지고, 이러한 정수를 int라는 변수의 종류로 표시한다. 변수의 유형은 좌측의 {x} 버튼으로 확인."
      ],
      "metadata": {
        "id": "pDSNwGiGq9jI"
      }
    },
    {
      "cell_type": "code",
      "source": [
        "print(a)"
      ],
      "metadata": {
        "colab": {
          "base_uri": "https://localhost:8080/"
        },
        "id": "7M7MPDTDsW2-",
        "outputId": "0c1b98fd-3e03-413d-9449-af78ec392bd3"
      },
      "execution_count": null,
      "outputs": [
        {
          "output_type": "stream",
          "name": "stdout",
          "text": [
            "1\n"
          ]
        }
      ]
    },
    {
      "cell_type": "markdown",
      "source": [
        "print(변수)는 변수의 내용을 나타낸다. 변수가 word라면 print를 통해 그 내용(content)를 나타냄."
      ],
      "metadata": {
        "id": "FO95K-sisaWD"
      }
    },
    {
      "cell_type": "code",
      "source": [
        "print(type(a)\n",
        ")"
      ],
      "metadata": {
        "colab": {
          "base_uri": "https://localhost:8080/"
        },
        "id": "VcQP8TDtrzoH",
        "outputId": "89e0bced-89b9-43be-ef1a-a714b5e5d754"
      },
      "execution_count": null,
      "outputs": [
        {
          "output_type": "stream",
          "name": "stdout",
          "text": [
            "<class 'int'>\n"
          ]
        }
      ]
    },
    {
      "cell_type": "markdown",
      "source": [
        "혹은 print(type(변수))로 변수의 유형이 무엇인지 나타내게 할수있다."
      ],
      "metadata": {
        "id": "35nN9rBmr9l7"
      }
    },
    {
      "cell_type": "markdown",
      "source": [
        "소수 역시 위와 같은 과정으로 사용할 수 있으며, 유형은 int 대신 float로 표시한다."
      ],
      "metadata": {
        "id": "JqZOYlsIszoo"
      }
    },
    {
      "cell_type": "markdown",
      "source": [
        "문자로 이루어진 변수는 string (str)이라고 한다. 문자를 변수로 주는 방법으로 quote ('')를 이용한다."
      ],
      "metadata": {
        "id": "wR4YBYvSs8BJ"
      }
    },
    {
      "cell_type": "code",
      "source": [
        "d = '123'; print(d); print(type(d))"
      ],
      "metadata": {
        "colab": {
          "base_uri": "https://localhost:8080/"
        },
        "id": "aAHzDnNutMWE",
        "outputId": "8aa2590f-f9e1-4762-cafa-0ef48a2ba5af"
      },
      "execution_count": null,
      "outputs": [
        {
          "output_type": "stream",
          "name": "stdout",
          "text": [
            "123\n",
            "<class 'str'>\n"
          ]
        }
      ]
    },
    {
      "cell_type": "markdown",
      "source": [
        "위는 d라는 변수에 '123'이라는 string을 quote로 주고, 변수 d의 내용과 type을 출력한 것이다. string에는 글자의 크기 (글자수)가 나타난다."
      ],
      "metadata": {
        "id": "euxw0UsitL53"
      }
    },
    {
      "cell_type": "code",
      "source": [
        "e = 'hi';print(e);print(type(e))"
      ],
      "metadata": {
        "colab": {
          "base_uri": "https://localhost:8080/"
        },
        "id": "QhlYxZz8tzko",
        "outputId": "389e95c2-c88f-4b45-d1e8-1f7487d1ffe1"
      },
      "execution_count": null,
      "outputs": [
        {
          "output_type": "stream",
          "name": "stdout",
          "text": [
            "hi\n",
            "<class 'str'>\n"
          ]
        }
      ]
    },
    {
      "cell_type": "markdown",
      "source": [
        "숫자로 이루어진 string이 아닌 글자로 써도 마찬가지."
      ],
      "metadata": {
        "id": "nedvqKo-U1s4"
      }
    },
    {
      "cell_type": "markdown",
      "source": [
        "변수의 종류 중 list는 변수에 숫자, 문자 등 다양한 종류 여러개를 대괄호 안에 넣어놓은 것. list 안에 list도 가능"
      ],
      "metadata": {
        "id": "IPjDPZqct-hd"
      }
    },
    {
      "cell_type": "code",
      "source": [
        "f = [1,'a',['boy','girl']];print(f);print(type(f))\n"
      ],
      "metadata": {
        "colab": {
          "base_uri": "https://localhost:8080/"
        },
        "id": "Iy-M9d60uSa2",
        "outputId": "1a794d41-4744-4d44-9115-118c841428c4"
      },
      "execution_count": null,
      "outputs": [
        {
          "output_type": "stream",
          "name": "stdout",
          "text": [
            "[1, 'a', ['boy', 'girl']]\n",
            "<class 'list'>\n"
          ]
        }
      ]
    },
    {
      "cell_type": "markdown",
      "source": [
        "list는 indexing이 가능하다. print(변수[index])로 표현.\n",
        "\n",
        "이것으로 list 중 내가 원하는 부분만 골라낼 수 있음. \n",
        "\n",
        "그 index는 첫번째것을 0으로하고, :표시는 전부 다를 의미한다. 0~2번째 변수 중 뒤의 두개만 가져오고 싶을때는 1:3-> 마지막꺼는 포함안함.처음부터 할때는 :3 으로만 표시.\n",
        "\n",
        "index는 음수도 쓰일 수 있음. 시작이 0번째, 마지막이 -1.\n",
        "\n",
        "또 변수 f처럼 list 안에 list를 포함하고 있을때, 작은 list의 부분을 표시할 때는 [작은 list가 있는 위치][작은 list 안에서 표시하고자 하는 부분의 위치]로 표현한다.\n",
        "\n",
        "밑은 예시."
      ],
      "metadata": {
        "id": "sLPMREzGvWVS"
      }
    },
    {
      "cell_type": "code",
      "source": [
        "print(f[:]);print(f[2][0]);print(f[1:3])"
      ],
      "metadata": {
        "colab": {
          "base_uri": "https://localhost:8080/"
        },
        "id": "ugV4i69TyKeb",
        "outputId": "61110652-554e-485a-a5e2-400c8a94279d"
      },
      "execution_count": null,
      "outputs": [
        {
          "output_type": "stream",
          "name": "stdout",
          "text": [
            "[1, 'a', ['boy', 'girl']]\n",
            "boy\n",
            "['a', ['boy', 'girl']]\n"
          ]
        }
      ]
    },
    {
      "cell_type": "markdown",
      "source": [
        "변수가 list가 아닌 string일때도 index는 동일하게 적용된다.\n",
        "\n",
        "list라는 변수는 대괄호가 아닌 그냥 괄호()를 쓰면 tuple 이 되는데 괄호말고는 identical. 다만 tuple은 item assignment가 안됨."
      ],
      "metadata": {
        "id": "Mktmb50C1FdZ"
      }
    },
    {
      "cell_type": "markdown",
      "source": [
        "int,float,string,tuple,list 이외의 마지막 변수는 dict이다.\n",
        "\n",
        "dictionary의 준말. 중괄호 안에 'key':'value' 의 형태로 묶여있고, key 가 별도의 index 역할을 한다. key가 변수와 혼동되지 않게 ''으로 string처럼 만들어준다.\n",
        "\n",
        "다만 key는 문자와 숫자 모두 다됨."
      ],
      "metadata": {
        "id": "IG-yKwjX1t73"
      }
    },
    {
      "cell_type": "code",
      "source": [
        "g = {'a':'apple','b':'banana','c':'2022'}; print(type(g)); print(g['b'])\n"
      ],
      "metadata": {
        "colab": {
          "base_uri": "https://localhost:8080/"
        },
        "id": "pBAm1Euv2wsM",
        "outputId": "88da6a23-6d44-44d8-c31d-4b4f19244862"
      },
      "execution_count": null,
      "outputs": [
        {
          "output_type": "stream",
          "name": "stdout",
          "text": [
            "<class 'dict'>\n",
            "banana\n"
          ]
        }
      ]
    },
    {
      "cell_type": "markdown",
      "source": [
        "# 음성학응용 0314"
      ],
      "metadata": {
        "id": "jb3s9k6H7ifZ"
      }
    },
    {
      "cell_type": "code",
      "metadata": {
        "id": "zwpWU02YmAur",
        "outputId": "65e011a4-1e3e-4bb6-97d6-b5a729bcad2e",
        "colab": {
          "base_uri": "https://localhost:8080/"
        }
      },
      "source": [
        "s = 'abcdef'\n",
        "print(s[0], s[5], s[-1], s[-6])\n",
        "print(s[1:3], s[1:], s[:3], s[:])"
      ],
      "execution_count": null,
      "outputs": [
        {
          "output_type": "stream",
          "name": "stdout",
          "text": [
            "a f f a\n",
            "bc bcdef abc abcdef\n"
          ]
        }
      ]
    },
    {
      "cell_type": "markdown",
      "source": [
        "지난 시간 했던 index 복습.\n",
        "\n",
        "첫번째는 0. 마지막은 -1. :의 오른쪽은 포함. \n",
        "\n",
        "왼쪽에 아무것도 없으면 처음부터 \n",
        "\n",
        "오른쪽에 아무것도 없으면 끝까지 \n",
        "\n",
        "양쪽에 아무것도 없으면 전부다"
      ],
      "metadata": {
        "id": "1bG9feKx8Dm0"
      }
    },
    {
      "cell_type": "code",
      "metadata": {
        "id": "mpkdZBeWmAux",
        "outputId": "0ef5035b-59f4-4398-dbf2-909c64a7cce2",
        "colab": {
          "base_uri": "https://localhost:8080/"
        }
      },
      "source": [
        "n = [100, 200, 300]\n",
        "print(n[0], n[2], n[-1], n[-3])\n",
        "print(n[1:2], n[1:], n[:2], n[:])"
      ],
      "execution_count": null,
      "outputs": [
        {
          "output_type": "stream",
          "name": "stdout",
          "text": [
            "100 300 300 100\n",
            "[200] [200, 300] [100, 200] [100, 200, 300]\n"
          ]
        }
      ]
    },
    {
      "cell_type": "markdown",
      "source": [
        "string과 list 는 index가 동일하다."
      ],
      "metadata": {
        "id": "5ltNjDJH8duw"
      }
    },
    {
      "cell_type": "code",
      "metadata": {
        "id": "ulnefmnFmAuy",
        "outputId": "8e81b441-b8e2-44a4-dcbc-d5d4eb5be3bd",
        "colab": {
          "base_uri": "https://localhost:8080/"
        }
      },
      "source": [
        "len(s)"
      ],
      "execution_count": null,
      "outputs": [
        {
          "output_type": "execute_result",
          "data": {
            "text/plain": [
              "6"
            ]
          },
          "metadata": {},
          "execution_count": 19
        }
      ]
    },
    {
      "cell_type": "markdown",
      "source": [
        "len함수는 변수의 길이를 출력한다."
      ],
      "metadata": {
        "id": "DBcc6Et38ex6"
      }
    },
    {
      "cell_type": "code",
      "metadata": {
        "id": "a45rgiNMmAuy",
        "outputId": "e125b765-e0a4-4596-cdc8-b4c871d48aee",
        "colab": {
          "base_uri": "https://localhost:8080/",
          "height": 36
        }
      },
      "source": [
        "s[1]+s[3]+s[4:]*10"
      ],
      "execution_count": null,
      "outputs": [
        {
          "output_type": "execute_result",
          "data": {
            "text/plain": [
              "'bdefefefefefefefefefef'"
            ],
            "application/vnd.google.colaboratory.intrinsic+json": {
              "type": "string"
            }
          },
          "metadata": {},
          "execution_count": 20
        }
      ]
    },
    {
      "cell_type": "markdown",
      "source": [
        "string에도 +를 쓸수있다.\n",
        "\n",
        "s[4:]는 s의 5번째글자부터끝까지를 의미. ='ef'\n",
        "\n",
        "*10은 s[4:]를 10번 반복시킨다. ='ef'를 10번붙임"
      ],
      "metadata": {
        "id": "luczIx7z8w_W"
      }
    },
    {
      "cell_type": "code",
      "metadata": {
        "id": "IevwoMpmmAuz",
        "outputId": "d88ba886-8caa-42df-e7d8-9be3a541e1d9",
        "colab": {
          "base_uri": "https://localhost:8080/",
          "height": 36
        }
      },
      "source": [
        "s.upper()"
      ],
      "execution_count": null,
      "outputs": [
        {
          "output_type": "execute_result",
          "data": {
            "text/plain": [
              "'ABCDEF'"
            ],
            "application/vnd.google.colaboratory.intrinsic+json": {
              "type": "string"
            }
          },
          "metadata": {},
          "execution_count": 21
        }
      ]
    },
    {
      "cell_type": "markdown",
      "source": [
        "python에서 함수를 쓸때는 함수(입력) 의 형태로 쓴다.\n",
        "\n",
        "입력이 없으면 ()만 쓴다. -> python에서 괄호가 있다면 그 앞은 함수 일것.\n",
        "\n",
        "s.upper()는 s를 쓰는데 upper()함수를 통해 대문자로 출력한것."
      ],
      "metadata": {
        "id": "VTW6Kqpd9bRp"
      }
    },
    {
      "cell_type": "code",
      "metadata": {
        "id": "LRU0Yt1amAuz",
        "outputId": "5a6fc721-7892-4714-b4f6-d4221a5a2215",
        "colab": {
          "base_uri": "https://localhost:8080/",
          "height": 36
        }
      },
      "source": [
        "s = ' this is a house built this year.\\n' \t\n",
        "s"
      ],
      "execution_count": null,
      "outputs": [
        {
          "output_type": "execute_result",
          "data": {
            "text/plain": [
              "' this is a house built this year.\\n'"
            ],
            "application/vnd.google.colaboratory.intrinsic+json": {
              "type": "string"
            }
          },
          "metadata": {},
          "execution_count": 22
        }
      ]
    },
    {
      "cell_type": "markdown",
      "source": [
        "s를 다른 string으로 바꿨다.\n",
        "\n",
        "셀의 마지막줄에 있을때는 print 안적어도 됨."
      ],
      "metadata": {
        "id": "As19gW8v-bc7"
      }
    },
    {
      "cell_type": "code",
      "metadata": {
        "id": "nMHteyDfmAu0",
        "outputId": "f68421f6-8433-4b4b-a750-3d337cc01112",
        "colab": {
          "base_uri": "https://localhost:8080/"
        }
      },
      "source": [
        "result = s.find('house') \t    \n",
        "result"
      ],
      "execution_count": null,
      "outputs": [
        {
          "output_type": "execute_result",
          "data": {
            "text/plain": [
              "11"
            ]
          },
          "metadata": {},
          "execution_count": 23
        }
      ]
    },
    {
      "cell_type": "markdown",
      "source": [
        "s.find('house') = s에서 'house'를 찾아라.\n",
        "\n",
        "그 찾은 값을 result에 넣어라. 라는 의미. (=print(result))\n",
        "\n",
        "11은 'house'가 있는 위치가 11번째라는 뜻."
      ],
      "metadata": {
        "id": "y6CDyxG5-jfB"
      }
    },
    {
      "cell_type": "code",
      "metadata": {
        "id": "gv82JUX7mAu0",
        "outputId": "49c31ca9-7673-4c4e-ea21-37c34454fa43",
        "colab": {
          "base_uri": "https://localhost:8080/"
        }
      },
      "source": [
        "result = s.find('this')\t     \n",
        "result"
      ],
      "execution_count": null,
      "outputs": [
        {
          "output_type": "execute_result",
          "data": {
            "text/plain": [
              "0"
            ]
          },
          "metadata": {},
          "execution_count": 25
        }
      ]
    },
    {
      "cell_type": "markdown",
      "source": [
        "s 안에 this가 두번 나오지만 위 함수로 찾은 위치는 this가 첫번째로 나오는 위치이다."
      ],
      "metadata": {
        "id": "OK-oe-ou_L2M"
      }
    },
    {
      "cell_type": "code",
      "metadata": {
        "id": "ua3TjwLcmAu2",
        "outputId": "d2692da8-2668-4c52-8068-116a65c86236",
        "colab": {
          "base_uri": "https://localhost:8080/",
          "height": 36
        }
      },
      "source": [
        "s = s.strip()      \t          # a copy of s without leading or trailing whitespace\n",
        "s"
      ],
      "execution_count": null,
      "outputs": [
        {
          "output_type": "execute_result",
          "data": {
            "text/plain": [
              "'this is a house built this year.'"
            ],
            "application/vnd.google.colaboratory.intrinsic+json": {
              "type": "string"
            }
          },
          "metadata": {},
          "execution_count": 24
        }
      ]
    },
    {
      "cell_type": "markdown",
      "source": [
        "제일 처음이나 마지막의 whitespace를 지움. -> 처음의 공백과 마지막의 /n 문장부호\n",
        "\n",
        "필요없는 부분을 지워서 보여주는 함수."
      ],
      "metadata": {
        "id": "czke0IRf_kZu"
      }
    },
    {
      "cell_type": "code",
      "metadata": {
        "id": "l37g5DqQmAu2",
        "outputId": "31a0aa7b-f567-4d41-cade-3e1b80c95cd9",
        "colab": {
          "base_uri": "https://localhost:8080/"
        }
      },
      "source": [
        "tokens = s.split(' ')\t        # split s into a list wherever a t is found (whitespace by default)\n",
        "tokens"
      ],
      "execution_count": null,
      "outputs": [
        {
          "output_type": "execute_result",
          "data": {
            "text/plain": [
              "['this', 'is', 'a', 'house', 'built', 'this', 'year.']"
            ]
          },
          "metadata": {},
          "execution_count": 26
        }
      ]
    },
    {
      "cell_type": "markdown",
      "source": [
        "split은 괄호안의 index (예시에서는 빈칸) 기준으로 쪼개서 list로 만드는 함수.\n",
        "\n",
        "예시는 즉, s를 빈칸을 기준으로 쪼개서 (공백은 포함x) list로 만드는것"
      ],
      "metadata": {
        "id": "NnaAHyR4ADzk"
      }
    },
    {
      "cell_type": "code",
      "metadata": {
        "id": "64sewKE8mAu2",
        "outputId": "dbc7d050-2f77-4c98-a33e-9a34e602586c",
        "colab": {
          "base_uri": "https://localhost:8080/",
          "height": 36
        }
      },
      "source": [
        "s = ' '.join(tokens)\t        # combine the words of the text into a string using s as the glue\n",
        "s"
      ],
      "execution_count": null,
      "outputs": [
        {
          "output_type": "execute_result",
          "data": {
            "text/plain": [
              "'this is a house built this year.'"
            ],
            "application/vnd.google.colaboratory.intrinsic+json": {
              "type": "string"
            }
          },
          "metadata": {},
          "execution_count": 27
        }
      ]
    },
    {
      "cell_type": "markdown",
      "source": [
        "split의 역. tokens를 빈칸을 이용해서 join하라는 함수.\n",
        "\n",
        "원 문장으로 돌린다."
      ],
      "metadata": {
        "id": "UzwHk6pPAqme"
      }
    },
    {
      "cell_type": "code",
      "metadata": {
        "id": "jfiqbBiImAu3",
        "outputId": "873ee261-fd1c-4a84-dad1-ab8401a907d1",
        "colab": {
          "base_uri": "https://localhost:8080/",
          "height": 36
        }
      },
      "source": [
        "s = s.replace('this', 'that') # replace instances of t with u inside s\n",
        "s"
      ],
      "execution_count": null,
      "outputs": [
        {
          "output_type": "execute_result",
          "data": {
            "text/plain": [
              "'that is a house built that year.'"
            ],
            "application/vnd.google.colaboratory.intrinsic+json": {
              "type": "string"
            }
          },
          "metadata": {},
          "execution_count": 28
        }
      ]
    },
    {
      "cell_type": "markdown",
      "source": [
        "'this'를 'that'으로 대체하는 함수."
      ],
      "metadata": {
        "id": "r3q_5p7XA2tU"
      }
    },
    {
      "cell_type": "markdown",
      "source": [
        "--------------------------------------------------------------------------------\n",
        "\n",
        "function."
      ],
      "metadata": {
        "id": "zkSZCQRMBfLA"
      }
    },
    {
      "cell_type": "code",
      "metadata": {
        "id": "hpc_mhgAye2S"
      },
      "source": [
        "def add(a,b):\n",
        "  return a+b\n",
        "\n",
        "def add(a,b): \n",
        "  c = a + b\n",
        "  return c\n",
        "\n",
        "def subtract(a,b):\n",
        "  return a-b\n",
        "\n",
        "def multiply(a,b):\n",
        "  return a*b\n",
        "\n",
        "def divide(a,b):\n",
        "  return a/b"
      ],
      "execution_count": null,
      "outputs": []
    },
    {
      "cell_type": "markdown",
      "source": [
        "함수를 만들때는 def 함수이름(입력변수-여러개면 comma로 연결): 콜론은 필수\n",
        "\n",
        "출력은 return 출력변수-여러개면 comma로 연결 로 표시.\n",
        "\n",
        "예시는 사칙 연산 함수를 만들어 return에 그 내용을 정해줬음. 이름 바꿔도 상관없음. 내용도 다른 변수를 끼어와서 써도 상관없음.\n",
        "\n",
        "다만 함수를 쓸려면, 함수를 그 전에 미리 정의해놓고 그 셀을 실행시켜야 함."
      ],
      "metadata": {
        "id": "7gP1qcIgBePO"
      }
    },
    {
      "cell_type": "code",
      "metadata": {
        "colab": {
          "base_uri": "https://localhost:8080/"
        },
        "id": "8Y4oa05Eykn4",
        "outputId": "465706cd-449d-4b71-c01e-8af160871791"
      },
      "source": [
        "c = add(1,2); print(c)\n",
        "c = subtract(1,2); print(c)\n",
        "c = multiply(1,2); print(c)\n",
        "c = divide(1,2); print(c)"
      ],
      "execution_count": null,
      "outputs": [
        {
          "output_type": "stream",
          "name": "stdout",
          "text": [
            "3\n",
            "-1\n",
            "2\n",
            "0.5\n"
          ]
        }
      ]
    },
    {
      "cell_type": "markdown",
      "source": [
        "위에 정의한 함수를 바탕으로 수를 입력해주고 출력을 받은 모습."
      ],
      "metadata": {
        "id": "cVjGCm-5Cw80"
      }
    },
    {
      "cell_type": "markdown",
      "source": [
        "--------------------------------------------------------------------------------\n",
        "syntax\n",
        "\n",
        "반복문 : for\n",
        "\n",
        "조건문 : if\n"
      ],
      "metadata": {
        "id": "0eJeVzpDDioM"
      }
    },
    {
      "cell_type": "code",
      "metadata": {
        "id": "Fu2mzgrqSLAU",
        "outputId": "e74cde32-7c17-459a-ff87-21d43a6d5dcf",
        "colab": {
          "base_uri": "https://localhost:8080/"
        }
      },
      "source": [
        "a = [1, 2, 3, 4]\n",
        "for i in a:\n",
        "    print(i)"
      ],
      "execution_count": null,
      "outputs": [
        {
          "output_type": "stream",
          "name": "stdout",
          "text": [
            "1\n",
            "2\n",
            "3\n",
            "4\n"
          ]
        }
      ]
    },
    {
      "cell_type": "markdown",
      "source": [
        "for 문의 해석.\n",
        "\n",
        "for i in a -> a 안에 있는 것을 i에 **처음부터 하나하나씩 받아서** 돌린다. - for loop.\n",
        "\n",
        "(indent) -> for 문 아랫줄의 indent는 필수. 없으면 윗줄과 아랫줄이 독립적으로 실행되지만 indent를 해놓으면 아랫줄이 모두 for 안에 있는 내용이 적용 됨."
      ],
      "metadata": {
        "id": "nyRShEw9ERbj"
      }
    },
    {
      "cell_type": "code",
      "metadata": {
        "id": "XSJxLJVCSLAW",
        "outputId": "f9800524-3840-4c0a-f5d1-df33121130b4",
        "colab": {
          "base_uri": "https://localhost:8080/"
        }
      },
      "source": [
        "a = [1, 2, 3, 4]\n",
        "for i in range(len(a)):\n",
        "    print(a[i])"
      ],
      "execution_count": null,
      "outputs": [
        {
          "output_type": "stream",
          "name": "stdout",
          "text": [
            "1\n",
            "2\n",
            "3\n",
            "4\n"
          ]
        }
      ]
    },
    {
      "cell_type": "markdown",
      "source": [
        "for문에서 in 다음에 range 자주 쓰임.\n",
        "\n",
        "len(a)는 a의 갯수 = 4니까 위 함수는 for i in range(4)와 같다.\n",
        "\n",
        "range(4)는 쉽게 [0,1,2,3]의 4칸길이 list가 만들어지는 것과 같다.\n",
        "\n",
        "그럼 for i in [0,1,2,3] 이 되니까 i 에 0,1,2,3이 차례로 들어간다.\n",
        "\n",
        "=> a[0], a[1], a[2], a[3] 을 차례로 출력하는것과 마찬가지."
      ],
      "metadata": {
        "id": "ViLQkD67FBgx"
      }
    },
    {
      "cell_type": "code",
      "metadata": {
        "id": "VTfxVRdgSLAW",
        "outputId": "e6cf6481-1e2c-4f62-a938-31ec3f1bb93a",
        "colab": {
          "base_uri": "https://localhost:8080/"
        }
      },
      "source": [
        "a = ['red', 'green', 'blue', 'purple']\n",
        "for i in a:\n",
        "    print(i)"
      ],
      "execution_count": null,
      "outputs": [
        {
          "output_type": "stream",
          "name": "stdout",
          "text": [
            "red\n",
            "green\n",
            "blue\n",
            "purple\n"
          ]
        }
      ]
    },
    {
      "cell_type": "markdown",
      "source": [
        "위와 같으나 a에 string으로 list를 준 경우."
      ],
      "metadata": {
        "id": "08yTiQI8Gk0R"
      }
    },
    {
      "cell_type": "code",
      "metadata": {
        "id": "Vc-7pW85SLAW",
        "outputId": "19ea2a6b-ba1c-4a22-d2c4-e24d4a9ca0d7",
        "colab": {
          "base_uri": "https://localhost:8080/"
        }
      },
      "source": [
        "a = ['red', 'green', 'blue', 'purple']\n",
        "for i in range(len(a)):\n",
        "    print(a[i])"
      ],
      "execution_count": null,
      "outputs": [
        {
          "output_type": "stream",
          "name": "stdout",
          "text": [
            "red\n",
            "green\n",
            "blue\n",
            "purple\n"
          ]
        }
      ]
    },
    {
      "cell_type": "markdown",
      "source": [
        "위와 같으나 a에 string으로 list를 준 경우."
      ],
      "metadata": {
        "id": "QhrDRB60GkDs"
      }
    },
    {
      "cell_type": "markdown",
      "source": [
        "**if문**"
      ],
      "metadata": {
        "id": "Vhiu6yVtHEju"
      }
    },
    {
      "cell_type": "code",
      "metadata": {
        "id": "dD-ephD3SLAX",
        "outputId": "73b769c2-a0dc-48d5-9b54-f9a5ce4ecec0",
        "colab": {
          "base_uri": "https://localhost:8080/"
        }
      },
      "source": [
        "a = 0\n",
        "if a == 0:\n",
        "    print(a)\n",
        "else:\n",
        "    print(a+1)"
      ],
      "execution_count": null,
      "outputs": [
        {
          "output_type": "stream",
          "name": "stdout",
          "text": [
            "0\n"
          ]
        }
      ]
    },
    {
      "cell_type": "markdown",
      "source": [
        "=는 같다는 의미가 아니라 왼쪽에 있는것을 오른쪽에 있는것으로 assign 하는 표시.\n",
        "\n",
        "같다는 의미의 등호는 == , 아니다는 != 로 표시.\n",
        "\n",
        "else: 는 if문의 조건이 아닐 시 실행할 것을 적음.\n",
        "\n",
        "위 if문은 a==0이라면 a를 출력, a==0이 아니라면 a+1을 출력하는 것이다."
      ],
      "metadata": {
        "id": "rVuf2hinHH1r"
      }
    },
    {
      "cell_type": "code",
      "metadata": {
        "id": "M0AZaDMvSLAY",
        "outputId": "c0a410af-d60e-424c-ac96-26dee302c0e5",
        "colab": {
          "base_uri": "https://localhost:8080/"
        }
      },
      "source": [
        "for i in range(1, 3):\n",
        "    for j in range(3, 5):\n",
        "        print(i*j)"
      ],
      "execution_count": null,
      "outputs": [
        {
          "output_type": "stream",
          "name": "stdout",
          "text": [
            "3\n",
            "4\n",
            "6\n",
            "8\n"
          ]
        }
      ]
    },
    {
      "cell_type": "markdown",
      "source": [
        "for 문의 중첩.\n",
        "\n",
        "range(1,3) = [1,2] 와 같다. 콜론으로 list indexing 하던것처럼 오른쪽 수는 포함x.\n",
        "\n",
        "위의 for 문은\n",
        "\n",
        "    for i in [1,2]\n",
        "\n",
        "      for j in [3,4]\n",
        " \n",
        "        print(i*j)\n",
        "\n",
        "와 같다. -> i에 1,2를 하나씩, j에 3,4를 하나씩 받고 곱하니까 출력은\n",
        "[3,4,6,8]을 하나씩 출력하는 것과 같다."
      ],
      "metadata": {
        "id": "dZi_T9aAH3e1"
      }
    },
    {
      "cell_type": "code",
      "metadata": {
        "id": "ZPpZmVIHSLAY",
        "outputId": "5ccd4173-928f-4ea9-e324-e1311d17edbd",
        "colab": {
          "base_uri": "https://localhost:8080/"
        }
      },
      "source": [
        "for i in range(1, 3):\n",
        "    for j in range(3, 5):\n",
        "        if j >=4:\n",
        "            print(i*j)"
      ],
      "execution_count": null,
      "outputs": [
        {
          "output_type": "stream",
          "name": "stdout",
          "text": [
            "4\n",
            "8\n"
          ]
        }
      ]
    },
    {
      "cell_type": "markdown",
      "source": [
        "아까와 같이 중첩 for문이지만 j가 4보다 크거나 같을때라는 조건이 붙어있다.\n",
        "\n",
        "해당 조건을 충족시키는 출력값만을 낸다."
      ],
      "metadata": {
        "id": "wySXYwMtJSeE"
      }
    },
    {
      "cell_type": "code",
      "metadata": {
        "id": "JQXk5vi0SLAY",
        "outputId": "ca985b79-5820-4707-bab3-6e9378f64bc6",
        "colab": {
          "base_uri": "https://localhost:8080/"
        }
      },
      "source": [
        "a = [1, 2, 3, 4]\n",
        "b = [i for i in a if i >=2]\n",
        "b"
      ],
      "execution_count": null,
      "outputs": [
        {
          "output_type": "execute_result",
          "data": {
            "text/plain": [
              "[2, 3, 4]"
            ]
          },
          "metadata": {},
          "execution_count": 39
        }
      ]
    },
    {
      "cell_type": "markdown",
      "source": [
        "list comprehension\n",
        "\n",
        "a에서 하나씩 b의 인수로 받는데, 조건을 만족시키는 인수를 list를 만들어서 출력한다."
      ],
      "metadata": {
        "id": "tf9UE2S0JgGD"
      }
    },
    {
      "cell_type": "code",
      "metadata": {
        "id": "MDmBGZ3LSLAZ",
        "outputId": "bd06f885-7334-43d9-d92d-848c615f6771"
      },
      "source": [
        "a = ['red', 'green', 'blue', 'purple']\n",
        "b = [i for i in a if len(i) >=4]\n",
        "b"
      ],
      "execution_count": null,
      "outputs": [
        {
          "output_type": "execute_result",
          "data": {
            "text/plain": [
              "['green', 'blue', 'purple']"
            ]
          },
          "metadata": {
            "tags": []
          },
          "execution_count": 13
        }
      ]
    },
    {
      "cell_type": "markdown",
      "source": [
        "list comprehension\n",
        "\n",
        "a에서 하나씩 b의 인수로 받는데, 조건을 만족시키는 = if절을 통과하는 인수들로 list를 만들어서 출력한다."
      ],
      "metadata": {
        "id": "PKymhl_2JsZB"
      }
    },
    {
      "cell_type": "code",
      "source": [
        "a = ['red', 'green', 'blue', 'purple']\n",
        "b = [1, 2, 3, 4]\n",
        "c = {a[i]:b[i] for i in range(4)}\n",
        "c"
      ],
      "metadata": {
        "id": "Z6JMoDOHu48B",
        "outputId": "cee65e6f-83d0-44eb-a438-d2136a57cef5",
        "colab": {
          "base_uri": "https://localhost:8080/"
        }
      },
      "execution_count": null,
      "outputs": [
        {
          "output_type": "execute_result",
          "data": {
            "text/plain": [
              "{'blue': 3, 'green': 2, 'purple': 4, 'red': 1}"
            ]
          },
          "metadata": {},
          "execution_count": 40
        }
      ]
    },
    {
      "cell_type": "markdown",
      "source": [
        "dict comprehension\n",
        "\n",
        "for 문이 i in [0,1,2,3] 이므로 a[0]:b[0] ... a[4]:b[4] 를 key:value의 형식으로 합쳐져서 dict로 출력\n",
        "\n",
        "순서는 중요 x."
      ],
      "metadata": {
        "id": "l3brHy1nJt8C"
      }
    },
    {
      "cell_type": "markdown",
      "source": [
        "#음성학응용 0316\n",
        "\n",
        "import 다른 사람들이 만들어 놓은 함수를 불러올때 쓴다.\n",
        "\n",
        "대부분의 중요한(유명한) 함수들은 python과 함께 install 되어있기 때문에 쓸때는 import만 하면 되지만, 없는 함수들은 install을 먼저해야한다. built in 함수는 import 도 필요없음.\n",
        "\n",
        "colab환경은 google컴퓨터를 쓴다. 여긴 이미 python과 다른 유명한 함수들이 깔려있음. \n",
        "\n",
        "google 컴퓨터가 창고라면 \n",
        "\n",
        "built in은 도마위에 꺼내져있는것. \n",
        "\n",
        "import는 필요한 것을 창고에서 꺼내오는것. \n",
        "\n",
        "install은 외부에서 창고로 가져다 놓는것."
      ],
      "metadata": {
        "id": "1_GiCU_dK7Li"
      }
    },
    {
      "cell_type": "code",
      "source": [
        "import numpy"
      ],
      "metadata": {
        "id": "-t93ibYwM7ud"
      },
      "execution_count": 41,
      "outputs": []
    },
    {
      "cell_type": "markdown",
      "source": [
        "import 패키지 이름 으로사용.\n",
        "\n",
        "패키지를 import해서 쓸때는 패키지 안의 디렉토리 그 안의 특정한 function을 쓰도록 지정해야 한다. -> 오늘 배울 것.\n",
        "\n",
        "지금은 numpy라는 패키지를 통으로 import 해온 것."
      ],
      "metadata": {
        "id": "xx3Zl4HFMxD2"
      }
    },
    {
      "cell_type": "code",
      "source": [
        "numpy.random.randn(5)"
      ],
      "metadata": {
        "colab": {
          "base_uri": "https://localhost:8080/"
        },
        "id": "ptTn9G67NgJY",
        "outputId": "3c770977-c581-4c84-e026-3b2cb3b9e547"
      },
      "execution_count": 42,
      "outputs": [
        {
          "output_type": "execute_result",
          "data": {
            "text/plain": [
              "array([ 1.47909249,  0.45824045, -0.09759573, -0.15904035,  0.1031694 ])"
            ]
          },
          "metadata": {},
          "execution_count": 42
        }
      ]
    },
    {
      "cell_type": "markdown",
      "source": [
        "-> numpy 라는 패키지 안에 random이라는 디렉토리가 있고 그안에 randn이라는 함수가 있다.\n",
        "\n",
        "-> 그 특정한 randn이라는 함수로 랜덤함수 5개를 만들었다. \n",
        "\n",
        "-> 이 전에 했던 import numpy를 먼저 하지 않으면 안됨."
      ],
      "metadata": {
        "id": "HdP7jd1uNpKo"
      }
    },
    {
      "cell_type": "code",
      "metadata": {
        "id": "JXicrkYOzPRo"
      },
      "source": [
        "import numpy as np\n",
        "n = np.random.randn(100)"
      ],
      "execution_count": 53,
      "outputs": []
    },
    {
      "cell_type": "markdown",
      "source": [
        "위의 과정이 길어서 단축하는 과정.\n",
        "\n",
        "as를 통해 numpy를 np로, randn함수로 가는 과정을 n으로 만들었음."
      ],
      "metadata": {
        "id": "EE14kQnaOOk0"
      }
    },
    {
      "cell_type": "code",
      "metadata": {
        "id": "oKT4vn4MwyLA",
        "colab": {
          "base_uri": "https://localhost:8080/",
          "height": 359
        },
        "outputId": "61a38a67-e877-45d5-850a-7ed0ae19890a"
      },
      "source": [
        "import matplotlib\n",
        "matplotlib.pyplot.hist(n)"
      ],
      "execution_count": 54,
      "outputs": [
        {
          "output_type": "execute_result",
          "data": {
            "text/plain": [
              "(array([ 1.,  4.,  9.,  9., 21., 24., 14., 11.,  4.,  3.]),\n",
              " array([-2.71234063, -2.16328485, -1.61422907, -1.0651733 , -0.51611752,\n",
              "         0.03293826,  0.58199404,  1.13104982,  1.6801056 ,  2.22916138,\n",
              "         2.77821715]),\n",
              " <a list of 10 Patch objects>)"
            ]
          },
          "metadata": {},
          "execution_count": 54
        },
        {
          "output_type": "display_data",
          "data": {
            "text/plain": [
              "<Figure size 432x288 with 1 Axes>"
            ],
            "image/png": "[encoded data removed]"
          },
          "metadata": {
            "needs_background": "light"
          }
        }
      ]
    },
    {
      "cell_type": "markdown",
      "source": [
        "matplotlib를 import 해왔음. \n",
        "\n",
        "마찬가지로 히스토그램을 그려주는 함수를 쓰기위해 matplotlib.pyplot.hist(n)으로 루트를 특정해줬음. n은 위에서 정해놓은 100개뽑는 랜덤함수. 그러므로 n실행할때마다 값바뀜 -> 히스토그램 바뀜."
      ],
      "metadata": {
        "id": "LOetiuE6Ofwo"
      }
    },
    {
      "cell_type": "code",
      "metadata": {
        "colab": {
          "base_uri": "https://localhost:8080/",
          "height": 359
        },
        "id": "zQJ4LnbA-Hvz",
        "outputId": "28312a9f-117b-4bd0-8fa2-3d15966c4a75"
      },
      "source": [
        "import matplotlib.pyplot\n",
        "matplotlib.pyplot.hist(n)"
      ],
      "execution_count": 55,
      "outputs": [
        {
          "output_type": "execute_result",
          "data": {
            "text/plain": [
              "(array([ 1.,  4.,  9.,  9., 21., 24., 14., 11.,  4.,  3.]),\n",
              " array([-2.71234063, -2.16328485, -1.61422907, -1.0651733 , -0.51611752,\n",
              "         0.03293826,  0.58199404,  1.13104982,  1.6801056 ,  2.22916138,\n",
              "         2.77821715]),\n",
              " <a list of 10 Patch objects>)"
            ]
          },
          "metadata": {},
          "execution_count": 55
        },
        {
          "output_type": "display_data",
          "data": {
            "text/plain": [
              "<Figure size 432x288 with 1 Axes>"
            ],
            "image/png": "[encoded data removed]"
          },
          "metadata": {
            "needs_background": "light"
          }
        }
      ]
    },
    {
      "cell_type": "markdown",
      "source": [
        "같은 건데, import할때 패키지 + 하위 디렉토리 까지 한번에 import 하는 방법.\n",
        "\n",
        "어차피 밑에 함수 지정할때 똑같은거 다시 써야하니까 굳이 선호되는 방법은 아님."
      ],
      "metadata": {
        "id": "crZDYciYPjNq"
      }
    },
    {
      "cell_type": "code",
      "metadata": {
        "id": "AWU6awi53c07",
        "outputId": "546ba9c6-b613-4006-e255-a9994f26db1a",
        "colab": {
          "base_uri": "https://localhost:8080/",
          "height": 359
        }
      },
      "source": [
        "import matplotlib.pyplot as plt\n",
        "plt.hist(n)"
      ],
      "execution_count": 56,
      "outputs": [
        {
          "output_type": "execute_result",
          "data": {
            "text/plain": [
              "(array([ 1.,  4.,  9.,  9., 21., 24., 14., 11.,  4.,  3.]),\n",
              " array([-2.71234063, -2.16328485, -1.61422907, -1.0651733 , -0.51611752,\n",
              "         0.03293826,  0.58199404,  1.13104982,  1.6801056 ,  2.22916138,\n",
              "         2.77821715]),\n",
              " <a list of 10 Patch objects>)"
            ]
          },
          "metadata": {},
          "execution_count": 56
        },
        {
          "output_type": "display_data",
          "data": {
            "text/plain": [
              "<Figure size 432x288 with 1 Axes>"
            ],
            "image/png": "[encoded data removed]"
          },
          "metadata": {
            "needs_background": "light"
          }
        }
      ]
    },
    {
      "cell_type": "markdown",
      "source": [
        "또 같은 방법. 다만 패키지 + 하위 디렉토리를 as로 받아서 다른 걸로 줄여 쓰게 (plt) 할수 있음. 나오는 것은 같지만 plt로 한번에 많이 줄었음."
      ],
      "metadata": {
        "id": "9NccSawyPzEv"
      }
    },
    {
      "cell_type": "markdown",
      "source": [
        "## from import를 쓰면 import as처럼 축약해서 부를 수 있는 효과"
      ],
      "metadata": {
        "id": "v1zA2xRWzpdu"
      }
    },
    {
      "cell_type": "code",
      "metadata": {
        "colab": {
          "base_uri": "https://localhost:8080/",
          "height": 359
        },
        "id": "moIjn3Kv-Hqy",
        "outputId": "0a6d3e38-edbd-4f59-a897-22c3c8b16ba1"
      },
      "source": [
        "from matplotlib import pyplot\n",
        "pyplot.hist(n)"
      ],
      "execution_count": 57,
      "outputs": [
        {
          "output_type": "execute_result",
          "data": {
            "text/plain": [
              "(array([ 1.,  4.,  9.,  9., 21., 24., 14., 11.,  4.,  3.]),\n",
              " array([-2.71234063, -2.16328485, -1.61422907, -1.0651733 , -0.51611752,\n",
              "         0.03293826,  0.58199404,  1.13104982,  1.6801056 ,  2.22916138,\n",
              "         2.77821715]),\n",
              " <a list of 10 Patch objects>)"
            ]
          },
          "metadata": {},
          "execution_count": 57
        },
        {
          "output_type": "display_data",
          "data": {
            "text/plain": [
              "<Figure size 432x288 with 1 Axes>"
            ],
            "image/png": "[encoded data removed]"
          },
          "metadata": {
            "needs_background": "light"
          }
        }
      ]
    },
    {
      "cell_type": "markdown",
      "source": [
        "패키지를 from으로 받고 import 하위 디렉토리 하면 이것도 바로 디렉토리.함수 로 쓸수 있기때문에 축약가능."
      ],
      "metadata": {
        "id": "NBT8tM79QSLx"
      }
    },
    {
      "cell_type": "code",
      "metadata": {
        "colab": {
          "base_uri": "https://localhost:8080/",
          "height": 359
        },
        "id": "ORo259i7_Uqi",
        "outputId": "57db3af0-d49f-4ef5-d01c-1911ca2ec86a"
      },
      "source": [
        "from matplotlib.pyplot import hist\n",
        "hist(n)"
      ],
      "execution_count": 58,
      "outputs": [
        {
          "output_type": "execute_result",
          "data": {
            "text/plain": [
              "(array([ 1.,  4.,  9.,  9., 21., 24., 14., 11.,  4.,  3.]),\n",
              " array([-2.71234063, -2.16328485, -1.61422907, -1.0651733 , -0.51611752,\n",
              "         0.03293826,  0.58199404,  1.13104982,  1.6801056 ,  2.22916138,\n",
              "         2.77821715]),\n",
              " <a list of 10 Patch objects>)"
            ]
          },
          "metadata": {},
          "execution_count": 58
        },
        {
          "output_type": "display_data",
          "data": {
            "text/plain": [
              "<Figure size 432x288 with 1 Axes>"
            ],
            "image/png": "[encoded data removed]"
          },
          "metadata": {
            "needs_background": "light"
          }
        }
      ]
    },
    {
      "cell_type": "markdown",
      "source": [
        "같은 원리로 from 패키지.하위디렉토리 import 특정함수 로 정리하면 편리하게 함수만 바로 쓸수 있음.\n",
        "\n",
        "축약도 다양한 방법이 있지만 사람들이 많이 하는 축약 패턴을 알면 좋음."
      ],
      "metadata": {
        "id": "7DbYvKADQjQa"
      }
    },
    {
      "cell_type": "markdown",
      "metadata": {
        "id": "JcCdLoe_4bY7"
      },
      "source": [
        "### create nd arrays (≈matrices)"
      ]
    },
    {
      "cell_type": "markdown",
      "source": [
        "matrix. 행렬.\n",
        "\n",
        ": 직사각형의 숫자배열 (array)\n",
        "\n",
        "직사각형을 다양하게 (층으로도) 배열할 수 있음. -> nd array = n-dimensional arrays.\n"
      ],
      "metadata": {
        "id": "iL3Xf4YNR4pF"
      }
    },
    {
      "cell_type": "code",
      "metadata": {
        "id": "5ap7xyofShBB"
      },
      "source": [
        "import numpy as np"
      ],
      "execution_count": 59,
      "outputs": []
    },
    {
      "cell_type": "code",
      "metadata": {
        "id": "2rqpSPZCShBC",
        "colab": {
          "base_uri": "https://localhost:8080/"
        },
        "outputId": "e57c8797-df44-4490-e699-0a00279d3ad2"
      },
      "source": [
        "x = np.array([1,2,3])\n",
        "print(x)\n",
        "print(type(x))\n",
        "print(x.shape)"
      ],
      "execution_count": 60,
      "outputs": [
        {
          "output_type": "stream",
          "name": "stdout",
          "text": [
            "[1 2 3]\n",
            "<class 'numpy.ndarray'>\n",
            "(3,)\n"
          ]
        }
      ]
    },
    {
      "cell_type": "markdown",
      "source": [
        "함수는 np.array() 안에 받은 것은 list 이다.\n",
        "\n",
        "list 는 단순히 여러 종류를 묶어놓은 것이기 때문에 계산x. 따라서 list를 array로 바꿔줘야 한다.\n",
        "\n",
        "-> np.array()가 하는일.\n",
        "\n",
        "[1 2 3] : 생긴 건 똑같지만 list에서 array가 되었음.\n",
        "\n",
        "<class 'numpy.ndarray'> : numpy에서 제공하는 ndarray라는 특수한 변수다.\n",
        "\n",
        "(3, ) : x.shape()은 이 array 의 모습을 보자. -> 3개짜리 1d array 라는 뜻이다."
      ],
      "metadata": {
        "id": "vIUWSypgSqn0"
      }
    },
    {
      "cell_type": "code",
      "metadata": {
        "id": "EjC88C75ShBC",
        "colab": {
          "base_uri": "https://localhost:8080/"
        },
        "outputId": "f06ccb79-e9e5-428c-f2db-96da903be41a"
      },
      "source": [
        "x = np.arange(0,10,2)\n",
        "print(x)\n",
        "print(type(x))\n",
        "print(x.shape)"
      ],
      "execution_count": 61,
      "outputs": [
        {
          "output_type": "stream",
          "name": "stdout",
          "text": [
            "[0 2 4 6 8]\n",
            "<class 'numpy.ndarray'>\n",
            "(5,)\n"
          ]
        }
      ]
    },
    {
      "cell_type": "markdown",
      "source": [
        "arange(0,10,2) 함수는\n",
        "\n",
        "0=< <10까지 배열을 만드는데, 마지막의 2는 increment이다.2씩 증가.\n",
        "\n",
        "=> 0,2,4,6,8\n",
        "\n",
        "마찬가지로 ndarray 유형에 5개짜리 1d array 임."
      ],
      "metadata": {
        "id": "NcWiE-LbUPkC"
      }
    },
    {
      "cell_type": "code",
      "metadata": {
        "id": "-MwkCEjTShBC",
        "colab": {
          "base_uri": "https://localhost:8080/"
        },
        "outputId": "d8f281d5-3099-41ec-bb7c-38553880a1c0"
      },
      "source": [
        "x = np.linspace(0,10,6)\n",
        "print(x)\n",
        "print(type(x))\n",
        "print(x.shape)"
      ],
      "execution_count": 62,
      "outputs": [
        {
          "output_type": "stream",
          "name": "stdout",
          "text": [
            "[ 0.  2.  4.  6.  8. 10.]\n",
            "<class 'numpy.ndarray'>\n",
            "(6,)\n"
          ]
        }
      ]
    },
    {
      "cell_type": "markdown",
      "source": [
        "linspace(0,10,6) \n",
        "\n",
        "0부터 10까지(이건 또 10을 포함) 등분을 해서 6개의 숫자를 만든다. (등 간격으로)\n",
        "\n",
        "마찬가지로 6개짜리 1d array"
      ],
      "metadata": {
        "id": "yWZqXpnnVH6f"
      }
    },
    {
      "cell_type": "code",
      "metadata": {
        "id": "tjk79SQ27fNv",
        "colab": {
          "base_uri": "https://localhost:8080/"
        },
        "outputId": "dd48a66d-e041-4598-f2dd-24b50e29c8d3"
      },
      "source": [
        "x = np.array([[1,2,3], [4,5,6]])\n",
        "print(x)\n",
        "print(type(x))\n",
        "print(x.shape)"
      ],
      "execution_count": 63,
      "outputs": [
        {
          "output_type": "stream",
          "name": "stdout",
          "text": [
            "[[1 2 3]\n",
            " [4 5 6]]\n",
            "<class 'numpy.ndarray'>\n",
            "(2, 3)\n"
          ]
        }
      ]
    },
    {
      "cell_type": "markdown",
      "source": [
        "두개의 list를 행렬로 만들었을 때,\n",
        "\n",
        "2행 3열로 만들어짐. -> shape (2, 3) 으로 나온다. (행, 열) 그리고 list 1개 []가 1개의 행으로 묶임.\n",
        "\n",
        "2d array."
      ],
      "metadata": {
        "id": "WNF7GhfAVhiH"
      }
    },
    {
      "cell_type": "code",
      "metadata": {
        "id": "C1ogg6iZ7yir",
        "colab": {
          "base_uri": "https://localhost:8080/"
        },
        "outputId": "38453b15-8a12-43ca-b7c5-21f9faa4a8a9"
      },
      "source": [
        "x = np.array([[[1,2,3], [4,5,6]], [[7,8,9], [10,11,12]]])\n",
        "print(x)\n",
        "print(type(x))\n",
        "print(x.shape)"
      ],
      "execution_count": 64,
      "outputs": [
        {
          "output_type": "stream",
          "name": "stdout",
          "text": [
            "[[[ 1  2  3]\n",
            "  [ 4  5  6]]\n",
            "\n",
            " [[ 7  8  9]\n",
            "  [10 11 12]]]\n",
            "<class 'numpy.ndarray'>\n",
            "(2, 2, 3)\n"
          ]
        }
      ]
    },
    {
      "cell_type": "markdown",
      "source": [
        "3d array를 만든다.\n",
        "아까 123 456으로 2d array를 만든것 밑으로 한층 789 101112가 있다.\n",
        "\n",
        "shape은 (2,2,3) 인데 2(2층) by 2(2행) by 3(3열)."
      ],
      "metadata": {
        "id": "LGmSkmWYWnq6"
      }
    },
    {
      "cell_type": "code",
      "metadata": {
        "id": "efgeNHtD8ZlT",
        "colab": {
          "base_uri": "https://localhost:8080/"
        },
        "outputId": "4df6744c-2448-4e8c-cd11-36d8c40c8eda"
      },
      "source": [
        "x = np.ones([2, 2, 3])\n",
        "print(x)\n",
        "print(type(x))\n",
        "print(x.shape)"
      ],
      "execution_count": 65,
      "outputs": [
        {
          "output_type": "stream",
          "name": "stdout",
          "text": [
            "[[[1. 1. 1.]\n",
            "  [1. 1. 1.]]\n",
            "\n",
            " [[1. 1. 1.]\n",
            "  [1. 1. 1.]]]\n",
            "<class 'numpy.ndarray'>\n",
            "(2, 2, 3)\n"
          ]
        }
      ]
    },
    {
      "cell_type": "markdown",
      "source": [
        "np.ones([2,2,3]) 은 2 by 2 by 3 array를 1로 채워서 보여주는 것. 같은 구조임을 확인할 수 있다."
      ],
      "metadata": {
        "id": "ncgwMWeLXKU4"
      }
    },
    {
      "cell_type": "code",
      "metadata": {
        "id": "b_F-ccY08zzl",
        "colab": {
          "base_uri": "https://localhost:8080/"
        },
        "outputId": "bb603471-7314-448f-d7ba-20b1660b49b8"
      },
      "source": [
        "x = np.zeros([2, 2, 3])\n",
        "print(x)\n",
        "print(type(x))\n",
        "print(x.shape)\n",
        "x.reshape(3,2,2)"
      ],
      "execution_count": 66,
      "outputs": [
        {
          "output_type": "stream",
          "name": "stdout",
          "text": [
            "[[[0. 0. 0.]\n",
            "  [0. 0. 0.]]\n",
            "\n",
            " [[0. 0. 0.]\n",
            "  [0. 0. 0.]]]\n",
            "<class 'numpy.ndarray'>\n",
            "(2, 2, 3)\n"
          ]
        },
        {
          "output_type": "execute_result",
          "data": {
            "text/plain": [
              "array([[[0., 0.],\n",
              "        [0., 0.]],\n",
              "\n",
              "       [[0., 0.],\n",
              "        [0., 0.]],\n",
              "\n",
              "       [[0., 0.],\n",
              "        [0., 0.]]])"
            ]
          },
          "metadata": {},
          "execution_count": 66
        }
      ]
    },
    {
      "cell_type": "markdown",
      "source": [
        "마찬가지로 0으로 2층 짜리 2행 3열 배열 짜줌."
      ],
      "metadata": {
        "id": "Ftu6H_fMXaax"
      }
    },
    {
      "cell_type": "markdown",
      "metadata": {
        "id": "0hQuDJ5g9gpE"
      },
      "source": [
        "### create random numbers"
      ]
    },
    {
      "cell_type": "code",
      "source": [
        "np.random.normal(0, 1, [2,3,4])"
      ],
      "metadata": {
        "id": "pCVnElBgan70",
        "outputId": "dd06544b-637a-41ea-d4b9-60c2b7b1ecdc",
        "colab": {
          "base_uri": "https://localhost:8080/"
        }
      },
      "execution_count": 67,
      "outputs": [
        {
          "output_type": "execute_result",
          "data": {
            "text/plain": [
              "array([[[ 0.78565794, -0.10579617,  2.399946  , -0.46949129],\n",
              "        [ 1.58389913, -0.10597648,  0.31990358, -0.29667473],\n",
              "        [ 1.55348987, -1.43895883,  0.19197877, -0.11854284]],\n",
              "\n",
              "       [[-1.07878305, -2.31404262, -0.24458715,  0.85521489],\n",
              "        [-0.72478607, -0.04196134, -1.42148729,  1.06832497],\n",
              "        [-0.84571428,  0.23576517,  1.88146405,  0.87246164]]])"
            ]
          },
          "metadata": {},
          "execution_count": 67
        }
      ]
    },
    {
      "cell_type": "markdown",
      "source": [
        "np.random.normal(평균, 표준편차, [ndarray의 구조]) -> normal distribution의 nd array를 만들어준다.\n",
        "\n",
        "위 함수 -> 평균이 0이고 표준편차가 1인 정규분포로 2 by 3 by 4 인 3d array 만들었음."
      ],
      "metadata": {
        "id": "_lroRiRZXrJv"
      }
    },
    {
      "cell_type": "code",
      "metadata": {
        "id": "QRatmkx79otL"
      },
      "source": [
        "import matplotlib.pyplot as plt"
      ],
      "execution_count": 68,
      "outputs": []
    },
    {
      "cell_type": "code",
      "metadata": {
        "id": "z1oOAB6dShBD",
        "colab": {
          "base_uri": "https://localhost:8080/",
          "height": 666
        },
        "outputId": "5245aadf-fbe1-4f66-8304-c95ab6d96e3b"
      },
      "source": [
        "x = np.random.normal(0, 1, 100)\n",
        "print(x)\n",
        "plt.hist(x, bins=10)"
      ],
      "execution_count": 70,
      "outputs": [
        {
          "output_type": "stream",
          "name": "stdout",
          "text": [
            "[ 0.82866672  1.81303513 -0.36608729 -0.68972604 -1.38105086 -0.91513149\n",
            " -0.47199902 -0.38949737 -0.58985022 -0.38624183  1.30076293 -1.44074915\n",
            "  0.08718026  0.16330414  0.50528863  1.17538162  0.20700104 -0.45384398\n",
            " -0.11613266  1.43645083 -0.5039117  -0.54401821 -1.21087952  0.19044839\n",
            " -1.21161714 -2.59281834 -0.35887182 -0.85906351 -0.18237817  0.16858613\n",
            "  0.40869565 -0.78078369 -0.18182406  0.53284861 -2.17998093 -1.66511074\n",
            " -1.38231101  1.93835967 -0.15308941 -1.77899252 -2.0536125   0.56354439\n",
            " -0.19531276  1.24230916 -1.07747482  0.15543652  0.59911377  0.65700745\n",
            "  0.89504199  1.45302138  1.26305354  0.80075383  0.7247538  -0.45576882\n",
            " -0.33864883 -0.99842577  1.0970394  -0.56935838  0.13199083  0.09012175\n",
            "  0.38538158 -0.47748173  0.62629651 -0.67433409  0.84151395  0.61825187\n",
            " -0.6967373   0.76167769 -0.22090355 -0.01038807 -0.7859977  -2.43954789\n",
            " -0.56480544  0.43217499 -0.33358962  0.47842644  0.11971414 -0.36744904\n",
            "  1.86786061 -0.73986052  1.51517236  0.02605671 -1.05017319 -0.22191276\n",
            "  1.96199839 -1.24898541 -1.52494008  0.39168519  0.01207468  1.39945617\n",
            " -1.48195081 -0.90743804  0.6233487  -0.08718551 -0.01330639 -2.82620204\n",
            "  1.12560226  0.0784657  -1.07963363  0.94106703]\n"
          ]
        },
        {
          "output_type": "execute_result",
          "data": {
            "text/plain": [
              "(array([ 3.,  2.,  5., 10., 17., 19., 16., 14.,  9.,  5.]),\n",
              " array([-2.82620204, -2.347382  , -1.86856195, -1.38974191, -0.91092187,\n",
              "        -0.43210183,  0.04671822,  0.52553826,  1.0043583 ,  1.48317835,\n",
              "         1.96199839]),\n",
              " <a list of 10 Patch objects>)"
            ]
          },
          "metadata": {},
          "execution_count": 70
        },
        {
          "output_type": "display_data",
          "data": {
            "text/plain": [
              "<Figure size 432x288 with 1 Axes>"
            ],
            "image/png": "[encoded data removed]"
          },
          "metadata": {
            "needs_background": "light"
          }
        }
      ]
    },
    {
      "cell_type": "markdown",
      "source": [
        "x에서 마찬가지로 평균이 0이고 표준편차가 1인 정규분포로 ndarray를 만드는데 그냥 100이라고 썼으니까 1줄짜리 100개 배열.\n",
        "\n",
        "hist(x, bins=10)\n",
        "\n",
        "x라는 ndarray로 히스토그램 만드는데, 10개 구간 (통=bin)으로 나누고 수들을 거기에 넣고 개수를 센다."
      ],
      "metadata": {
        "id": "SPXUsTiFYv9n"
      }
    },
    {
      "cell_type": "markdown",
      "metadata": {
        "id": "G0exvwBbShBE"
      },
      "source": [
        "### generate a sine curve"
      ]
    },
    {
      "cell_type": "markdown",
      "source": [
        "numpy를 가지고 사인 곡선을 만들고, matplotlib으로 plotting 하기."
      ],
      "metadata": {
        "id": "R6WaCfGkaJyg"
      }
    },
    {
      "cell_type": "code",
      "metadata": {
        "id": "HgQmRXzMShBE",
        "colab": {
          "base_uri": "https://localhost:8080/",
          "height": 284
        },
        "outputId": "7206bd93-6bc6-4b5f-cd00-8e030e50cc11"
      },
      "source": [
        "plt.figure()\n",
        "\n",
        "theta1 = np.linspace(0, 2*np.pi, 100)\n",
        "s1 = np.sin(theta1)\n",
        "theta2 = np.linspace(0, 2*np.pi, 100) + np.pi/2\n",
        "s2 = np.sin(theta2)\n",
        "\n",
        "plt.subplot(2, 1, 1) # (rows, columns, panel number)\n",
        "plt.plot(theta1, s1, '.')\n",
        "plt.subplot(2, 1, 2) # (rows, columns, panel number)\n",
        "plt.plot(theta2, s2, '.')"
      ],
      "execution_count": 71,
      "outputs": [
        {
          "output_type": "execute_result",
          "data": {
            "text/plain": [
              "[<matplotlib.lines.Line2D at 0x7f35aac54d90>]"
            ]
          },
          "metadata": {},
          "execution_count": 71
        },
        {
          "output_type": "display_data",
          "data": {
            "text/plain": [
              "<Figure size 432x288 with 2 Axes>"
            ],
            "image/png": "[encoded data removed]"
          },
          "metadata": {
            "needs_background": "light"
          }
        }
      ]
    },
    {
      "cell_type": "markdown",
      "source": [
        "위의 plt로 figure를 만든다. plt.figure() 함수.\n",
        "\n",
        "np.linspace(0, 2*np.pi, 100) -> 0부터 2파이까지 등간격으로 100개의 숫자를 만듦. -> theta1 이라는 변수로 받음.\n",
        "\n",
        "plt.subplot(2, 1, 1) -> 위에 있는그림 plot 의 형태\n",
        "\n",
        "그림을 2 by 1 으로 만드는데 그중 1번째 그림\n",
        "\n",
        "plt.plot(theta1, s1, '.') theta1 값을 x로 s1값을 y로 해서 점으로 그린 1번째 그림의 plotting.\n",
        "\n",
        "2번째 그림은 theta2와 s2를 받아서 첫번째 사인 곡선의 90도 만큼 회전시킨 값.으로 시작한 곡선 생성."
      ],
      "metadata": {
        "id": "XZoyhQ7GaZqI"
      }
    },
    {
      "cell_type": "code",
      "metadata": {
        "id": "TuH489v9BvQ7",
        "colab": {
          "base_uri": "https://localhost:8080/"
        },
        "outputId": "80f021a2-50ec-4eb5-aed7-4faf9a306496"
      },
      "source": [
        "np.corrcoef(s1,s2)"
      ],
      "execution_count": null,
      "outputs": [
        {
          "output_type": "execute_result",
          "data": {
            "text/plain": [
              "array([[1.00000000e+00, 2.41915449e-17],\n",
              "       [2.41915449e-17, 1.00000000e+00]])"
            ]
          },
          "metadata": {},
          "execution_count": 11
        }
      ]
    },
    {
      "cell_type": "markdown",
      "source": [
        "correlation coefficient. 상관계수. r값.\n",
        "\n",
        "한 학급의 수학, 영어 점수를 조사했다고 했을 때, 학생의 점수를 영어축, 수학축으로 해서 위치를 표시하면 그 데이터가 반비례를 나타내는지 정비례를 나타내는지 알 수 있다.\n",
        "\n",
        "-> correlation coefficient로 그 값이 어느정도 비례/반비례하는가 알아볼 수 있음. 두개의 변량에 존재하는 상관관계를 알아볼수 있는 척도. 상관관계가 높을 수록 절대값이 1에 가깝고 그래프가 thin하게 생김.\n",
        "\n",
        "-1=<r=<1 로해서 음수면 반비례, 양수면 정비례\n",
        "\n",
        "위의 사인 곡선 만들때 s1, s2값으로 상관계수 구해봄.\n",
        "\n",
        "array([[]]) 값들 중에서 양끝의 값들은 1이라서 버리고, 중간의 값들은 \n",
        "같은 값이라서 그중에 하나만 보면됨.\n",
        "\n",
        "2.419...e-17은 그냥 0이라는 소리. 즉, 서로 상관관계 없음에 가깝다~"
      ],
      "metadata": {
        "id": "n1rNKYjmeKo8"
      }
    },
    {
      "cell_type": "markdown",
      "source": [
        ""
      ],
      "metadata": {
        "id": "FZh-zk6GgjM6"
      }
    }
  ]
}