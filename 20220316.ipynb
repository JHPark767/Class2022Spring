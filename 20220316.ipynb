{
  "nbformat": 4,
  "nbformat_minor": 0,
  "metadata": {
    "colab": {
      "name": "20220316.ipynb",
      "provenance": [],
      "collapsed_sections": [],
      "authorship_tag": "ABX9TyNeY6TGLVQES6tXRkrZTqvO",
      "include_colab_link": true
    },
    "kernelspec": {
      "name": "python3",
      "display_name": "Python 3"
    },
    "language_info": {
      "name": "python"
    }
  },
  "cells": [
    {
      "cell_type": "markdown",
      "metadata": {
        "id": "view-in-github",
        "colab_type": "text"
      },
      "source": [
        "<a href=\"https://colab.research.google.com/github/JHPark767/Class2022Spring/blob/main/20220316.ipynb\" target=\"_parent\"><img src=\"https://colab.research.google.com/assets/colab-badge.svg\" alt=\"Open In Colab\"/></a>"
      ]
    },
    {
      "cell_type": "markdown",
      "source": [
        "음성학응용0307\n",
        "\n",
        "영어음성학 응용 2022년도 1학기 keywords:\n",
        "\n",
        "python, colab, github, data processing(text, sound, image), hugging face, gradio\n",
        "\n",
        "python - 코딩 도구\n",
        "\n",
        "colab - 코딩 환경. (클라우드 코딩)\n",
        "\n",
        "github - 코드 및 작업물 공유환경.\n",
        "\n",
        "data processing - 학기동안 수업 중에 할 것. 누군가가 만들어 놓은 ai 모델(함수)을 통해 데이터를 처리할 것. 입력을 출력으로 바꾸는 과정.\n",
        "hugging face - ai 모델들을 모아놓은 곳.\n",
        "\n",
        "gradio - web programming 과정을 단축해서 ai모델들을 구현해주는 것. \n",
        "\n",
        "=> colab 환경을 python 언어로 코딩한 것을 github에 공유한다. \n",
        "\n",
        "그 내용은 hugging face 에서 가져온 ai 모델을 통해 데이터를 (글자, 소리, 이미지) 입력하고 출력하는 과정을 gradio로 구현한 것.\n",
        "\n",
        "예를 들어, hugging face에 gpt2를 이용해서, input text를 주었을때 문장을 완성해주는 ai 모델이 있다고 했을때,\n",
        "\n",
        "**colab의 환경에서 gradio를 이용해 hugging face의 ai 모델로 일부 텍스트를 입력했을때, 자동으로 문장을 완성해주는 간단한 앱 또는 사이트를 만드는 것이 가능하다.**\n",
        "\n",
        "-> 이번학기 수업에서 할 것.\n",
        "\n",
        "Coding에 대하여...\n",
        "\n",
        ": 주로 Python 사용. 다른 컴퓨터 언어들이 있고 이를 이용한 코딩도 다양하지만 주로 공통점은\n",
        "\n",
        "변수 - 숫자, 문자를 코드안에 부여함. (variables)\n",
        "\n",
        "문법 - 조건을 부여함. (syntax)\n",
        "\n",
        "함수 - 여러 변수, 문법을 입력과 출력으로 묶어놓은것. (function)\n"
      ],
      "metadata": {
        "id": "tfrKPJWgrci0"
      }
    },
    {
      "cell_type": "markdown",
      "source": [
        "\n",
        "음성학응용0309\n",
        "\n",
        "코딩-\n",
        "\n",
        "1.변수\n",
        "\n",
        "2.문법(조건,반복)\n",
        "\n",
        "3.함수\n",
        "\n",
        "4.패키지(라이브러리) - 어떤 목적을 갖고 함수 등을 모아놓은 것. 패키지는 import해서 써야한다.\n",
        "\n",
        "파이썬 변수에 대해.\n",
        "\n",
        "파이썬 = Programming Language. \n",
        "\n",
        "언어에 단어가 핵심이라면 단어는 의미(meaning), 내용(content)을 가지고 있다.\n",
        "\n",
        "Programming Language에서 이 단어(word)에 해당하는 것이 변수(variables).\n",
        "\n",
        "[var=3]이라고 변수를 주면 이것이 곧 내용(content)이 됨.\n",
        "\n",
        "이 word (variables)를 조합하는 것이 문법(syntax) -> 조건문과 반복문으로 주로 조합.\n",
        "\n"
      ],
      "metadata": {
        "id": "ZkQieammU25q"
      }
    },
    {
      "cell_type": "markdown",
      "source": [
        "변수는 숫자, 문자가 있다.\n",
        "그 중 숫자는 정수와 소수로 나눈다."
      ],
      "metadata": {
        "id": "FjxdbO3Xsqtz"
      }
    },
    {
      "cell_type": "code",
      "source": [
        "a = 1\n",
        "b = 2\n",
        "c = 3"
      ],
      "metadata": {
        "id": "Gf1ONNjyYh1j"
      },
      "execution_count": 21,
      "outputs": []
    },
    {
      "cell_type": "markdown",
      "source": [
        "라고 3개의 변수를 줬을때, 변수 a,b,c는 각각 1,2,3의 정수값을 가지고, 이러한 정수를 int라는 변수의 종류로 표시한다. 변수의 유형은 좌측의 {x} 버튼으로 확인."
      ],
      "metadata": {
        "id": "pDSNwGiGq9jI"
      }
    },
    {
      "cell_type": "code",
      "source": [
        "print(a)"
      ],
      "metadata": {
        "colab": {
          "base_uri": "https://localhost:8080/"
        },
        "id": "7M7MPDTDsW2-",
        "outputId": "56385a9d-a9e6-40c9-8b94-f5af60d8745b"
      },
      "execution_count": 13,
      "outputs": [
        {
          "output_type": "stream",
          "name": "stdout",
          "text": [
            "1\n"
          ]
        }
      ]
    },
    {
      "cell_type": "markdown",
      "source": [
        "print(변수)는 변수의 내용을 나타낸다. 변수가 word라면 print를 통해 그 내용(content)를 나타냄."
      ],
      "metadata": {
        "id": "FO95K-sisaWD"
      }
    },
    {
      "cell_type": "code",
      "source": [
        "print(type(a)\n",
        ")"
      ],
      "metadata": {
        "colab": {
          "base_uri": "https://localhost:8080/"
        },
        "id": "VcQP8TDtrzoH",
        "outputId": "d4f0e832-7c3f-4d46-d635-9992b24ab62f"
      },
      "execution_count": 20,
      "outputs": [
        {
          "output_type": "stream",
          "name": "stdout",
          "text": [
            "<class 'int'>\n"
          ]
        }
      ]
    },
    {
      "cell_type": "markdown",
      "source": [
        "혹은 print(type(변수))로 변수의 유형이 무엇인지 나타내게 할수있다."
      ],
      "metadata": {
        "id": "35nN9rBmr9l7"
      }
    },
    {
      "cell_type": "markdown",
      "source": [
        "소수 역시 위와 같은 과정으로 사용할 수 있으며, 유형은 int 대신 float로 표시한다."
      ],
      "metadata": {
        "id": "JqZOYlsIszoo"
      }
    },
    {
      "cell_type": "markdown",
      "source": [
        "문자로 이루어진 변수는 string (str)이라고 한다. 문자를 변수로 주는 방법으로 quote ('')를 이용한다."
      ],
      "metadata": {
        "id": "wR4YBYvSs8BJ"
      }
    },
    {
      "cell_type": "code",
      "source": [
        "d = '123'; print(d); print(type(d))"
      ],
      "metadata": {
        "colab": {
          "base_uri": "https://localhost:8080/"
        },
        "id": "aAHzDnNutMWE",
        "outputId": "35ff8b9f-4dbc-4e6c-d651-7092d1d7b952"
      },
      "execution_count": 22,
      "outputs": [
        {
          "output_type": "stream",
          "name": "stdout",
          "text": [
            "123\n",
            "<class 'str'>\n"
          ]
        }
      ]
    },
    {
      "cell_type": "markdown",
      "source": [
        "위는 d라는 변수에 '123'이라는 string을 quote로 주고, 변수 d의 내용과 type을 출력한 것이다. string에는 글자의 크기 (글자수)가 나타난다."
      ],
      "metadata": {
        "id": "euxw0UsitL53"
      }
    },
    {
      "cell_type": "code",
      "source": [
        "e = 'hi';print(e);print(type(e))"
      ],
      "metadata": {
        "colab": {
          "base_uri": "https://localhost:8080/"
        },
        "id": "QhlYxZz8tzko",
        "outputId": "d65e1287-4799-4189-edca-e0060d13ffa3"
      },
      "execution_count": 23,
      "outputs": [
        {
          "output_type": "stream",
          "name": "stdout",
          "text": [
            "hi\n",
            "<class 'str'>\n"
          ]
        }
      ]
    },
    {
      "cell_type": "markdown",
      "source": [
        "숫자로 이루어진 string이 아닌 글자로 써도 마찬가지."
      ],
      "metadata": {
        "id": "nedvqKo-U1s4"
      }
    },
    {
      "cell_type": "markdown",
      "source": [
        "변수의 종류 중 list는 변수에 숫자, 문자 등 다양한 종류 여러개를 대괄호 안에 넣어놓은 것. list 안에 list도 가능"
      ],
      "metadata": {
        "id": "IPjDPZqct-hd"
      }
    },
    {
      "cell_type": "code",
      "source": [
        "f = [1,'a',['boy','girl']];print(f);print(type(f))\n"
      ],
      "metadata": {
        "colab": {
          "base_uri": "https://localhost:8080/"
        },
        "id": "Iy-M9d60uSa2",
        "outputId": "eaccf4a2-5ebf-49c5-f3ed-67ee01374560"
      },
      "execution_count": 24,
      "outputs": [
        {
          "output_type": "stream",
          "name": "stdout",
          "text": [
            "[1, 'a', ['boy', 'girl']]\n",
            "<class 'list'>\n"
          ]
        }
      ]
    },
    {
      "cell_type": "markdown",
      "source": [
        "list는 indexing이 가능하다. print(변수[index])로 표현.\n",
        "\n",
        "이것으로 list 중 내가 원하는 부분만 골라낼 수 있음. \n",
        "\n",
        "그 index는 첫번째것을 0으로하고, :표시는 전부 다를 의미한다. 0~2번째 변수 중 뒤의 두개만 가져오고 싶을때는 1:3-> 마지막꺼는 포함안함.처음부터 할때는 :3 으로만 표시.\n",
        "\n",
        "index는 음수도 쓰일 수 있음. 시작이 0번째, 마지막이 -1.\n",
        "\n",
        "또 변수 f처럼 list 안에 list를 포함하고 있을때, 작은 list의 부분을 표시할 때는 [작은 list가 있는 위치][작은 list 안에서 표시하고자 하는 부분의 위치]로 표현한다.\n",
        "\n",
        "밑은 예시."
      ],
      "metadata": {
        "id": "sLPMREzGvWVS"
      }
    },
    {
      "cell_type": "code",
      "source": [
        "print(f[:]);print(f[2][0]);print(f[1:3])"
      ],
      "metadata": {
        "colab": {
          "base_uri": "https://localhost:8080/"
        },
        "id": "ugV4i69TyKeb",
        "outputId": "3bc96e56-9eaa-46ce-b5d6-d360d677c970"
      },
      "execution_count": 19,
      "outputs": [
        {
          "output_type": "stream",
          "name": "stdout",
          "text": [
            "[1, 'a', ['boy', 'girl']]\n",
            "boy\n",
            "['a', ['boy', 'girl']]\n"
          ]
        }
      ]
    },
    {
      "cell_type": "markdown",
      "source": [
        "변수가 list가 아닌 string일때도 index는 동일하게 적용된다.\n",
        "\n",
        "list라는 변수는 대괄호가 아닌 그냥 괄호()를 쓰면 tuple 이 되는데 괄호말고는 identical. 다만 tuple은 item assignment가 안됨."
      ],
      "metadata": {
        "id": "Mktmb50C1FdZ"
      }
    },
    {
      "cell_type": "markdown",
      "source": [
        "int,float,string,tuple,list 이외의 마지막 변수는 dict이다.\n",
        "\n",
        "dictionary의 준말. 중괄호 안에 'key':'value' 의 형태로 묶여있고, key 가 별도의 index 역할을 한다. key가 변수와 혼동되지 않게 ''으로 string처럼 만들어준다.\n",
        "\n",
        "다만 key는 문자와 숫자 모두 다됨."
      ],
      "metadata": {
        "id": "IG-yKwjX1t73"
      }
    },
    {
      "cell_type": "code",
      "source": [
        "g = {'a':'apple','b':'banana','c':'2022'}; print(type(g)); print(g['b'])\n"
      ],
      "metadata": {
        "colab": {
          "base_uri": "https://localhost:8080/"
        },
        "id": "pBAm1Euv2wsM",
        "outputId": "f755675d-ad0e-4d23-ddbc-9717e6f9788c"
      },
      "execution_count": 28,
      "outputs": [
        {
          "output_type": "stream",
          "name": "stdout",
          "text": [
            "<class 'dict'>\n",
            "banana\n"
          ]
        }
      ]
    }
  ]
}